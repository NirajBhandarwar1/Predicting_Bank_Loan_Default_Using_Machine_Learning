{
 "cells": [
  {
   "cell_type": "markdown",
   "id": "4b2966cd",
   "metadata": {
    "id": "4b2966cd"
   },
   "source": [
    "### Step 1: Data Acquisition"
   ]
  },
  {
   "cell_type": "markdown",
   "id": "8b35ecd4",
   "metadata": {
    "id": "8b35ecd4"
   },
   "source": [
    "#### Import required libraries and read the dataset"
   ]
  },
  {
   "cell_type": "code",
   "execution_count": null,
   "id": "9a885521",
   "metadata": {
    "id": "9a885521"
   },
   "outputs": [],
   "source": [
    "import pandas as pd\n",
    "import numpy as np\n",
    "import seaborn as sns\n",
    "import matplotlib.pyplot as plt\n",
    "%matplotlib inline\n",
    "import warnings\n",
    "warnings.filterwarnings('ignore')\n",
    "\n",
    "# splitting, scaling, and encoding\n",
    "from sklearn.model_selection import train_test_split\n",
    "from sklearn.preprocessing import StandardScaler\n",
    "\n",
    "# evaluation metrics\n",
    "from sklearn import metrics\n",
    "from sklearn.metrics import recall_score\n",
    "\n",
    "# Models\n",
    "from sklearn.linear_model import LogisticRegression\n",
    "from sklearn.linear_model import RidgeClassifier\n",
    "from sklearn.linear_model import Lasso\n",
    "from sklearn.ensemble import RandomForestClassifier\n",
    "from sklearn.feature_selection import SelectFromModel\n",
    "from sklearn.tree import DecisionTreeClassifier\n",
    "\n",
    "# Package for handling imbalance data\n",
    "#!pip install imblear\n",
    "from imblearn.over_sampling import SMOTE\n",
    "from imblearn.under_sampling import RandomUnderSampler\n",
    "\n",
    "# Pipeline and transformer\n",
    "from sklearn.pipeline import Pipeline\n",
    "from sklearn.compose import ColumnTransformer\n",
    "\n",
    "#!pip install mlxtend\n",
    "import joblib\n",
    "import sys\n",
    "sys.modules['sklearn.externals.joblib'] = joblib\n",
    "from mlxtend.feature_selection import SequentialFeatureSelector as sfs\n",
    "from mlxtend.plotting import plot_sequential_feature_selection as plot_sfs\n",
    "\n",
    "\n",
    "# Hyperparameter tuning\n",
    "from sklearn.model_selection import RandomizedSearchCV\n",
    "from sklearn.model_selection import GridSearchCV\n",
    "\n",
    "# To view all the columns\n",
    "pd.set_option('display.max_columns', None)"
   ]
  },
  {
   "cell_type": "code",
   "execution_count": null,
   "id": "7c5e3fca",
   "metadata": {
    "id": "7c5e3fca"
   },
   "outputs": [],
   "source": [
    "df = pd.read_csv('/bank_loan_defaulter.csv')"
   ]
  },
  {
   "cell_type": "markdown",
   "id": "f780ea1b",
   "metadata": {
    "id": "f780ea1b"
   },
   "source": [
    "#### Check the first few samples, shape, info of the data and try to familiarize yourself with different features"
   ]
  },
  {
   "cell_type": "code",
   "execution_count": null,
   "id": "e56b86f9",
   "metadata": {
    "colab": {
     "base_uri": "https://localhost:8080/",
     "height": 409
    },
    "id": "e56b86f9",
    "outputId": "7189f6b4-41bc-4ee7-d6b1-ba1b65a11126"
   },
   "outputs": [
    {
     "data": {
      "text/html": [
       "\n",
       "  <div id=\"df-e6ee8e95-29a0-4fae-968f-4c80fc0e6a49\">\n",
       "    <div class=\"colab-df-container\">\n",
       "      <div>\n",
       "<style scoped>\n",
       "    .dataframe tbody tr th:only-of-type {\n",
       "        vertical-align: middle;\n",
       "    }\n",
       "\n",
       "    .dataframe tbody tr th {\n",
       "        vertical-align: top;\n",
       "    }\n",
       "\n",
       "    .dataframe thead th {\n",
       "        text-align: right;\n",
       "    }\n",
       "</style>\n",
       "<table border=\"1\" class=\"dataframe\">\n",
       "  <thead>\n",
       "    <tr style=\"text-align: right;\">\n",
       "      <th></th>\n",
       "      <th>ID</th>\n",
       "      <th>Loan Amount</th>\n",
       "      <th>Funded Amount</th>\n",
       "      <th>Funded Amount Investor</th>\n",
       "      <th>Term</th>\n",
       "      <th>Batch Enrolled</th>\n",
       "      <th>Interest Rate</th>\n",
       "      <th>Grade</th>\n",
       "      <th>Sub Grade</th>\n",
       "      <th>Employment Duration</th>\n",
       "      <th>Home Ownership</th>\n",
       "      <th>Verification Status</th>\n",
       "      <th>Payment Plan</th>\n",
       "      <th>Loan Title</th>\n",
       "      <th>Debit to Income</th>\n",
       "      <th>Delinquency - two years</th>\n",
       "      <th>Inquires - six months</th>\n",
       "      <th>Open Account</th>\n",
       "      <th>Public Record</th>\n",
       "      <th>Revolving Balance</th>\n",
       "      <th>Revolving Utilities</th>\n",
       "      <th>Total Accounts</th>\n",
       "      <th>Initial List Status</th>\n",
       "      <th>Total Received Interest</th>\n",
       "      <th>Total Received Late Fee</th>\n",
       "      <th>Recoveries</th>\n",
       "      <th>Collection Recovery Fee</th>\n",
       "      <th>Collection 12 months Medical</th>\n",
       "      <th>Application Type</th>\n",
       "      <th>Last week Pay</th>\n",
       "      <th>Accounts Delinquent</th>\n",
       "      <th>Total Collection Amount</th>\n",
       "      <th>Total Current Balance</th>\n",
       "      <th>Total Revolving Credit Limit</th>\n",
       "      <th>Loan Status</th>\n",
       "    </tr>\n",
       "  </thead>\n",
       "  <tbody>\n",
       "    <tr>\n",
       "      <th>0</th>\n",
       "      <td>65087372</td>\n",
       "      <td>10000</td>\n",
       "      <td>32236</td>\n",
       "      <td>12329.36286</td>\n",
       "      <td>59</td>\n",
       "      <td>BAT2522922</td>\n",
       "      <td>11.135007</td>\n",
       "      <td>B</td>\n",
       "      <td>C4</td>\n",
       "      <td>MORTGAGE</td>\n",
       "      <td>176346.62670</td>\n",
       "      <td>Not Verified</td>\n",
       "      <td>n</td>\n",
       "      <td>Debt Consolidation</td>\n",
       "      <td>16.284758</td>\n",
       "      <td>1</td>\n",
       "      <td>0</td>\n",
       "      <td>13</td>\n",
       "      <td>0</td>\n",
       "      <td>24246</td>\n",
       "      <td>74.932551</td>\n",
       "      <td>7</td>\n",
       "      <td>w</td>\n",
       "      <td>2929.646315</td>\n",
       "      <td>0.102055</td>\n",
       "      <td>2.498291</td>\n",
       "      <td>0.793724</td>\n",
       "      <td>0</td>\n",
       "      <td>INDIVIDUAL</td>\n",
       "      <td>49</td>\n",
       "      <td>0</td>\n",
       "      <td>31</td>\n",
       "      <td>311301</td>\n",
       "      <td>6619</td>\n",
       "      <td>0</td>\n",
       "    </tr>\n",
       "    <tr>\n",
       "      <th>1</th>\n",
       "      <td>1450153</td>\n",
       "      <td>3609</td>\n",
       "      <td>11940</td>\n",
       "      <td>12191.99692</td>\n",
       "      <td>59</td>\n",
       "      <td>BAT1586599</td>\n",
       "      <td>12.237563</td>\n",
       "      <td>C</td>\n",
       "      <td>D3</td>\n",
       "      <td>RENT</td>\n",
       "      <td>39833.92100</td>\n",
       "      <td>Source Verified</td>\n",
       "      <td>n</td>\n",
       "      <td>Debt consolidation</td>\n",
       "      <td>15.412409</td>\n",
       "      <td>0</td>\n",
       "      <td>0</td>\n",
       "      <td>12</td>\n",
       "      <td>0</td>\n",
       "      <td>812</td>\n",
       "      <td>78.297186</td>\n",
       "      <td>13</td>\n",
       "      <td>f</td>\n",
       "      <td>772.769385</td>\n",
       "      <td>0.036181</td>\n",
       "      <td>2.377215</td>\n",
       "      <td>0.974821</td>\n",
       "      <td>0</td>\n",
       "      <td>INDIVIDUAL</td>\n",
       "      <td>109</td>\n",
       "      <td>0</td>\n",
       "      <td>53</td>\n",
       "      <td>182610</td>\n",
       "      <td>20885</td>\n",
       "      <td>0</td>\n",
       "    </tr>\n",
       "    <tr>\n",
       "      <th>2</th>\n",
       "      <td>1969101</td>\n",
       "      <td>28276</td>\n",
       "      <td>9311</td>\n",
       "      <td>21603.22455</td>\n",
       "      <td>59</td>\n",
       "      <td>BAT2136391</td>\n",
       "      <td>12.545884</td>\n",
       "      <td>F</td>\n",
       "      <td>D4</td>\n",
       "      <td>MORTGAGE</td>\n",
       "      <td>91506.69105</td>\n",
       "      <td>Source Verified</td>\n",
       "      <td>n</td>\n",
       "      <td>Debt Consolidation</td>\n",
       "      <td>28.137619</td>\n",
       "      <td>0</td>\n",
       "      <td>0</td>\n",
       "      <td>14</td>\n",
       "      <td>0</td>\n",
       "      <td>1843</td>\n",
       "      <td>2.073040</td>\n",
       "      <td>20</td>\n",
       "      <td>w</td>\n",
       "      <td>863.324396</td>\n",
       "      <td>18.778660</td>\n",
       "      <td>4.316277</td>\n",
       "      <td>1.020075</td>\n",
       "      <td>0</td>\n",
       "      <td>INDIVIDUAL</td>\n",
       "      <td>66</td>\n",
       "      <td>0</td>\n",
       "      <td>34</td>\n",
       "      <td>89801</td>\n",
       "      <td>26155</td>\n",
       "      <td>0</td>\n",
       "    </tr>\n",
       "    <tr>\n",
       "      <th>3</th>\n",
       "      <td>6651430</td>\n",
       "      <td>11170</td>\n",
       "      <td>6954</td>\n",
       "      <td>17877.15585</td>\n",
       "      <td>59</td>\n",
       "      <td>BAT2428731</td>\n",
       "      <td>16.731201</td>\n",
       "      <td>C</td>\n",
       "      <td>C3</td>\n",
       "      <td>MORTGAGE</td>\n",
       "      <td>108286.57590</td>\n",
       "      <td>Source Verified</td>\n",
       "      <td>n</td>\n",
       "      <td>Debt consolidation</td>\n",
       "      <td>18.043730</td>\n",
       "      <td>1</td>\n",
       "      <td>0</td>\n",
       "      <td>7</td>\n",
       "      <td>0</td>\n",
       "      <td>13819</td>\n",
       "      <td>67.467951</td>\n",
       "      <td>12</td>\n",
       "      <td>w</td>\n",
       "      <td>288.173196</td>\n",
       "      <td>0.044131</td>\n",
       "      <td>0.107020</td>\n",
       "      <td>0.749971</td>\n",
       "      <td>0</td>\n",
       "      <td>INDIVIDUAL</td>\n",
       "      <td>39</td>\n",
       "      <td>0</td>\n",
       "      <td>40</td>\n",
       "      <td>9189</td>\n",
       "      <td>60214</td>\n",
       "      <td>0</td>\n",
       "    </tr>\n",
       "    <tr>\n",
       "      <th>4</th>\n",
       "      <td>14354669</td>\n",
       "      <td>16890</td>\n",
       "      <td>13226</td>\n",
       "      <td>13539.92667</td>\n",
       "      <td>59</td>\n",
       "      <td>BAT5341619</td>\n",
       "      <td>15.008300</td>\n",
       "      <td>C</td>\n",
       "      <td>D4</td>\n",
       "      <td>MORTGAGE</td>\n",
       "      <td>44234.82545</td>\n",
       "      <td>Source Verified</td>\n",
       "      <td>n</td>\n",
       "      <td>Credit card refinancing</td>\n",
       "      <td>17.209886</td>\n",
       "      <td>1</td>\n",
       "      <td>3</td>\n",
       "      <td>13</td>\n",
       "      <td>1</td>\n",
       "      <td>1544</td>\n",
       "      <td>85.250761</td>\n",
       "      <td>22</td>\n",
       "      <td>w</td>\n",
       "      <td>129.239553</td>\n",
       "      <td>19.306646</td>\n",
       "      <td>1294.818751</td>\n",
       "      <td>0.368953</td>\n",
       "      <td>0</td>\n",
       "      <td>INDIVIDUAL</td>\n",
       "      <td>18</td>\n",
       "      <td>0</td>\n",
       "      <td>430</td>\n",
       "      <td>126029</td>\n",
       "      <td>22579</td>\n",
       "      <td>0</td>\n",
       "    </tr>\n",
       "  </tbody>\n",
       "</table>\n",
       "</div>\n",
       "      <button class=\"colab-df-convert\" onclick=\"convertToInteractive('df-e6ee8e95-29a0-4fae-968f-4c80fc0e6a49')\"\n",
       "              title=\"Convert this dataframe to an interactive table.\"\n",
       "              style=\"display:none;\">\n",
       "        \n",
       "  <svg xmlns=\"http://www.w3.org/2000/svg\" height=\"24px\"viewBox=\"0 0 24 24\"\n",
       "       width=\"24px\">\n",
       "    <path d=\"M0 0h24v24H0V0z\" fill=\"none\"/>\n",
       "    <path d=\"M18.56 5.44l.94 2.06.94-2.06 2.06-.94-2.06-.94-.94-2.06-.94 2.06-2.06.94zm-11 1L8.5 8.5l.94-2.06 2.06-.94-2.06-.94L8.5 2.5l-.94 2.06-2.06.94zm10 10l.94 2.06.94-2.06 2.06-.94-2.06-.94-.94-2.06-.94 2.06-2.06.94z\"/><path d=\"M17.41 7.96l-1.37-1.37c-.4-.4-.92-.59-1.43-.59-.52 0-1.04.2-1.43.59L10.3 9.45l-7.72 7.72c-.78.78-.78 2.05 0 2.83L4 21.41c.39.39.9.59 1.41.59.51 0 1.02-.2 1.41-.59l7.78-7.78 2.81-2.81c.8-.78.8-2.07 0-2.86zM5.41 20L4 18.59l7.72-7.72 1.47 1.35L5.41 20z\"/>\n",
       "  </svg>\n",
       "      </button>\n",
       "      \n",
       "  <style>\n",
       "    .colab-df-container {\n",
       "      display:flex;\n",
       "      flex-wrap:wrap;\n",
       "      gap: 12px;\n",
       "    }\n",
       "\n",
       "    .colab-df-convert {\n",
       "      background-color: #E8F0FE;\n",
       "      border: none;\n",
       "      border-radius: 50%;\n",
       "      cursor: pointer;\n",
       "      display: none;\n",
       "      fill: #1967D2;\n",
       "      height: 32px;\n",
       "      padding: 0 0 0 0;\n",
       "      width: 32px;\n",
       "    }\n",
       "\n",
       "    .colab-df-convert:hover {\n",
       "      background-color: #E2EBFA;\n",
       "      box-shadow: 0px 1px 2px rgba(60, 64, 67, 0.3), 0px 1px 3px 1px rgba(60, 64, 67, 0.15);\n",
       "      fill: #174EA6;\n",
       "    }\n",
       "\n",
       "    [theme=dark] .colab-df-convert {\n",
       "      background-color: #3B4455;\n",
       "      fill: #D2E3FC;\n",
       "    }\n",
       "\n",
       "    [theme=dark] .colab-df-convert:hover {\n",
       "      background-color: #434B5C;\n",
       "      box-shadow: 0px 1px 3px 1px rgba(0, 0, 0, 0.15);\n",
       "      filter: drop-shadow(0px 1px 2px rgba(0, 0, 0, 0.3));\n",
       "      fill: #FFFFFF;\n",
       "    }\n",
       "  </style>\n",
       "\n",
       "      <script>\n",
       "        const buttonEl =\n",
       "          document.querySelector('#df-e6ee8e95-29a0-4fae-968f-4c80fc0e6a49 button.colab-df-convert');\n",
       "        buttonEl.style.display =\n",
       "          google.colab.kernel.accessAllowed ? 'block' : 'none';\n",
       "\n",
       "        async function convertToInteractive(key) {\n",
       "          const element = document.querySelector('#df-e6ee8e95-29a0-4fae-968f-4c80fc0e6a49');\n",
       "          const dataTable =\n",
       "            await google.colab.kernel.invokeFunction('convertToInteractive',\n",
       "                                                     [key], {});\n",
       "          if (!dataTable) return;\n",
       "\n",
       "          const docLinkHtml = 'Like what you see? Visit the ' +\n",
       "            '<a target=\"_blank\" href=https://colab.research.google.com/notebooks/data_table.ipynb>data table notebook</a>'\n",
       "            + ' to learn more about interactive tables.';\n",
       "          element.innerHTML = '';\n",
       "          dataTable['output_type'] = 'display_data';\n",
       "          await google.colab.output.renderOutput(dataTable, element);\n",
       "          const docLink = document.createElement('div');\n",
       "          docLink.innerHTML = docLinkHtml;\n",
       "          element.appendChild(docLink);\n",
       "        }\n",
       "      </script>\n",
       "    </div>\n",
       "  </div>\n",
       "  "
      ],
      "text/plain": [
       "         ID  Loan Amount  Funded Amount  Funded Amount Investor  Term  \\\n",
       "0  65087372        10000          32236             12329.36286    59   \n",
       "1   1450153         3609          11940             12191.99692    59   \n",
       "2   1969101        28276           9311             21603.22455    59   \n",
       "3   6651430        11170           6954             17877.15585    59   \n",
       "4  14354669        16890          13226             13539.92667    59   \n",
       "\n",
       "  Batch Enrolled  Interest Rate Grade Sub Grade Employment Duration  \\\n",
       "0     BAT2522922      11.135007     B        C4            MORTGAGE   \n",
       "1     BAT1586599      12.237563     C        D3                RENT   \n",
       "2     BAT2136391      12.545884     F        D4            MORTGAGE   \n",
       "3     BAT2428731      16.731201     C        C3            MORTGAGE   \n",
       "4     BAT5341619      15.008300     C        D4            MORTGAGE   \n",
       "\n",
       "   Home Ownership Verification Status Payment Plan               Loan Title  \\\n",
       "0    176346.62670        Not Verified            n       Debt Consolidation   \n",
       "1     39833.92100     Source Verified            n       Debt consolidation   \n",
       "2     91506.69105     Source Verified            n       Debt Consolidation   \n",
       "3    108286.57590     Source Verified            n       Debt consolidation   \n",
       "4     44234.82545     Source Verified            n  Credit card refinancing   \n",
       "\n",
       "   Debit to Income  Delinquency - two years  Inquires - six months  \\\n",
       "0        16.284758                        1                      0   \n",
       "1        15.412409                        0                      0   \n",
       "2        28.137619                        0                      0   \n",
       "3        18.043730                        1                      0   \n",
       "4        17.209886                        1                      3   \n",
       "\n",
       "   Open Account  Public Record  Revolving Balance  Revolving Utilities  \\\n",
       "0            13              0              24246            74.932551   \n",
       "1            12              0                812            78.297186   \n",
       "2            14              0               1843             2.073040   \n",
       "3             7              0              13819            67.467951   \n",
       "4            13              1               1544            85.250761   \n",
       "\n",
       "   Total Accounts Initial List Status  Total Received Interest  \\\n",
       "0               7                   w              2929.646315   \n",
       "1              13                   f               772.769385   \n",
       "2              20                   w               863.324396   \n",
       "3              12                   w               288.173196   \n",
       "4              22                   w               129.239553   \n",
       "\n",
       "   Total Received Late Fee   Recoveries  Collection Recovery Fee  \\\n",
       "0                 0.102055     2.498291                 0.793724   \n",
       "1                 0.036181     2.377215                 0.974821   \n",
       "2                18.778660     4.316277                 1.020075   \n",
       "3                 0.044131     0.107020                 0.749971   \n",
       "4                19.306646  1294.818751                 0.368953   \n",
       "\n",
       "   Collection 12 months Medical Application Type  Last week Pay  \\\n",
       "0                             0       INDIVIDUAL             49   \n",
       "1                             0       INDIVIDUAL            109   \n",
       "2                             0       INDIVIDUAL             66   \n",
       "3                             0       INDIVIDUAL             39   \n",
       "4                             0       INDIVIDUAL             18   \n",
       "\n",
       "   Accounts Delinquent  Total Collection Amount  Total Current Balance  \\\n",
       "0                    0                       31                 311301   \n",
       "1                    0                       53                 182610   \n",
       "2                    0                       34                  89801   \n",
       "3                    0                       40                   9189   \n",
       "4                    0                      430                 126029   \n",
       "\n",
       "   Total Revolving Credit Limit  Loan Status  \n",
       "0                          6619            0  \n",
       "1                         20885            0  \n",
       "2                         26155            0  \n",
       "3                         60214            0  \n",
       "4                         22579            0  "
      ]
     },
     "execution_count": 5,
     "metadata": {},
     "output_type": "execute_result"
    }
   ],
   "source": [
    "df.head()"
   ]
  },
  {
   "cell_type": "code",
   "execution_count": null,
   "id": "bd248ac7",
   "metadata": {
    "colab": {
     "base_uri": "https://localhost:8080/"
    },
    "id": "bd248ac7",
    "outputId": "d4c61506-8743-4eab-c549-9b2c30e1180a"
   },
   "outputs": [
    {
     "data": {
      "text/plain": [
       "(67463, 35)"
      ]
     },
     "execution_count": 6,
     "metadata": {},
     "output_type": "execute_result"
    }
   ],
   "source": [
    "df.shape"
   ]
  },
  {
   "cell_type": "code",
   "execution_count": null,
   "id": "e04cb6a9",
   "metadata": {
    "colab": {
     "base_uri": "https://localhost:8080/"
    },
    "id": "e04cb6a9",
    "outputId": "eba8f36d-6b2f-49b6-9b47-de548b73e857"
   },
   "outputs": [
    {
     "name": "stdout",
     "output_type": "stream",
     "text": [
      "<class 'pandas.core.frame.DataFrame'>\n",
      "RangeIndex: 67463 entries, 0 to 67462\n",
      "Data columns (total 35 columns):\n",
      " #   Column                        Non-Null Count  Dtype  \n",
      "---  ------                        --------------  -----  \n",
      " 0   ID                            67463 non-null  int64  \n",
      " 1   Loan Amount                   67463 non-null  int64  \n",
      " 2   Funded Amount                 67463 non-null  int64  \n",
      " 3   Funded Amount Investor        67463 non-null  float64\n",
      " 4   Term                          67463 non-null  int64  \n",
      " 5   Batch Enrolled                67463 non-null  object \n",
      " 6   Interest Rate                 67463 non-null  float64\n",
      " 7   Grade                         67463 non-null  object \n",
      " 8   Sub Grade                     67463 non-null  object \n",
      " 9   Employment Duration           67463 non-null  object \n",
      " 10  Home Ownership                67463 non-null  float64\n",
      " 11  Verification Status           67463 non-null  object \n",
      " 12  Payment Plan                  67463 non-null  object \n",
      " 13  Loan Title                    67463 non-null  object \n",
      " 14  Debit to Income               67463 non-null  float64\n",
      " 15  Delinquency - two years       67463 non-null  int64  \n",
      " 16  Inquires - six months         67463 non-null  int64  \n",
      " 17  Open Account                  67463 non-null  int64  \n",
      " 18  Public Record                 67463 non-null  int64  \n",
      " 19  Revolving Balance             67463 non-null  int64  \n",
      " 20  Revolving Utilities           67463 non-null  float64\n",
      " 21  Total Accounts                67463 non-null  int64  \n",
      " 22  Initial List Status           67463 non-null  object \n",
      " 23  Total Received Interest       67463 non-null  float64\n",
      " 24  Total Received Late Fee       67463 non-null  float64\n",
      " 25  Recoveries                    67463 non-null  float64\n",
      " 26  Collection Recovery Fee       67463 non-null  float64\n",
      " 27  Collection 12 months Medical  67463 non-null  int64  \n",
      " 28  Application Type              67463 non-null  object \n",
      " 29  Last week Pay                 67463 non-null  int64  \n",
      " 30  Accounts Delinquent           67463 non-null  int64  \n",
      " 31  Total Collection Amount       67463 non-null  int64  \n",
      " 32  Total Current Balance         67463 non-null  int64  \n",
      " 33  Total Revolving Credit Limit  67463 non-null  int64  \n",
      " 34  Loan Status                   67463 non-null  int64  \n",
      "dtypes: float64(9), int64(17), object(9)\n",
      "memory usage: 18.0+ MB\n"
     ]
    }
   ],
   "source": [
    "df.info()"
   ]
  },
  {
   "cell_type": "markdown",
   "id": "36fd52b3",
   "metadata": {
    "id": "36fd52b3"
   },
   "source": [
    "- The dataset has 67,463 rows, 35 columns(features) and none of the rows have null values.\n",
    "- The dataset has more numeric features than categorical."
   ]
  },
  {
   "cell_type": "markdown",
   "id": "6139087f",
   "metadata": {
    "id": "6139087f"
   },
   "source": [
    "### Step 2: Apply EDA (Exploratory Data Analysis)"
   ]
  },
  {
   "cell_type": "markdown",
   "id": "6d0c6247",
   "metadata": {
    "id": "6d0c6247"
   },
   "source": [
    "#### Check if there are any duplicate records in the dataset? if any drop them, and check the percentage of missing values, if any? treat them with appropriate methods"
   ]
  },
  {
   "cell_type": "code",
   "execution_count": null,
   "id": "cd5e561a",
   "metadata": {
    "colab": {
     "base_uri": "https://localhost:8080/"
    },
    "id": "cd5e561a",
    "outputId": "48c396b3-7173-4ff1-a366-3e8dadbff822"
   },
   "outputs": [
    {
     "data": {
      "text/plain": [
       "False"
      ]
     },
     "execution_count": 8,
     "metadata": {},
     "output_type": "execute_result"
    }
   ],
   "source": [
    "df.duplicated().any()"
   ]
  },
  {
   "cell_type": "code",
   "execution_count": null,
   "id": "694edfc4",
   "metadata": {
    "colab": {
     "base_uri": "https://localhost:8080/"
    },
    "id": "694edfc4",
    "outputId": "47b1117d-2d00-430c-e9e3-1b70c9444470"
   },
   "outputs": [
    {
     "data": {
      "text/plain": [
       "ID                              0.0\n",
       "Loan Amount                     0.0\n",
       "Funded Amount                   0.0\n",
       "Funded Amount Investor          0.0\n",
       "Term                            0.0\n",
       "Batch Enrolled                  0.0\n",
       "Interest Rate                   0.0\n",
       "Grade                           0.0\n",
       "Sub Grade                       0.0\n",
       "Employment Duration             0.0\n",
       "Home Ownership                  0.0\n",
       "Verification Status             0.0\n",
       "Payment Plan                    0.0\n",
       "Loan Title                      0.0\n",
       "Debit to Income                 0.0\n",
       "Delinquency - two years         0.0\n",
       "Inquires - six months           0.0\n",
       "Open Account                    0.0\n",
       "Public Record                   0.0\n",
       "Revolving Balance               0.0\n",
       "Revolving Utilities             0.0\n",
       "Total Accounts                  0.0\n",
       "Initial List Status             0.0\n",
       "Total Received Interest         0.0\n",
       "Total Received Late Fee         0.0\n",
       "Recoveries                      0.0\n",
       "Collection Recovery Fee         0.0\n",
       "Collection 12 months Medical    0.0\n",
       "Application Type                0.0\n",
       "Last week Pay                   0.0\n",
       "Accounts Delinquent             0.0\n",
       "Total Collection Amount         0.0\n",
       "Total Current Balance           0.0\n",
       "Total Revolving Credit Limit    0.0\n",
       "Loan Status                     0.0\n",
       "dtype: float64"
      ]
     },
     "execution_count": 9,
     "metadata": {},
     "output_type": "execute_result"
    }
   ],
   "source": [
    "df.isnull().sum()/len(df)*100"
   ]
  },
  {
   "cell_type": "markdown",
   "id": "d12cbaa5",
   "metadata": {
    "id": "d12cbaa5"
   },
   "source": [
    "- There are no duplicate records or missing values."
   ]
  },
  {
   "cell_type": "markdown",
   "id": "aece4d32",
   "metadata": {
    "id": "aece4d32"
   },
   "source": [
    "#### Check summary statistics of the dataset, and write your key observations."
   ]
  },
  {
   "cell_type": "code",
   "execution_count": null,
   "id": "ea9c69fd",
   "metadata": {
    "colab": {
     "base_uri": "https://localhost:8080/",
     "height": 399
    },
    "id": "ea9c69fd",
    "outputId": "661a3e90-a3e9-41bd-8198-4236bb8e067b"
   },
   "outputs": [
    {
     "data": {
      "text/html": [
       "\n",
       "  <div id=\"df-4517407e-64e7-40c4-9566-e63230ccab5f\">\n",
       "    <div class=\"colab-df-container\">\n",
       "      <div>\n",
       "<style scoped>\n",
       "    .dataframe tbody tr th:only-of-type {\n",
       "        vertical-align: middle;\n",
       "    }\n",
       "\n",
       "    .dataframe tbody tr th {\n",
       "        vertical-align: top;\n",
       "    }\n",
       "\n",
       "    .dataframe thead th {\n",
       "        text-align: right;\n",
       "    }\n",
       "</style>\n",
       "<table border=\"1\" class=\"dataframe\">\n",
       "  <thead>\n",
       "    <tr style=\"text-align: right;\">\n",
       "      <th></th>\n",
       "      <th>ID</th>\n",
       "      <th>Loan Amount</th>\n",
       "      <th>Funded Amount</th>\n",
       "      <th>Funded Amount Investor</th>\n",
       "      <th>Term</th>\n",
       "      <th>Interest Rate</th>\n",
       "      <th>Home Ownership</th>\n",
       "      <th>Debit to Income</th>\n",
       "      <th>Delinquency - two years</th>\n",
       "      <th>Inquires - six months</th>\n",
       "      <th>Open Account</th>\n",
       "      <th>Public Record</th>\n",
       "      <th>Revolving Balance</th>\n",
       "      <th>Revolving Utilities</th>\n",
       "      <th>Total Accounts</th>\n",
       "      <th>Total Received Interest</th>\n",
       "      <th>Total Received Late Fee</th>\n",
       "      <th>Recoveries</th>\n",
       "      <th>Collection Recovery Fee</th>\n",
       "      <th>Collection 12 months Medical</th>\n",
       "      <th>Last week Pay</th>\n",
       "      <th>Accounts Delinquent</th>\n",
       "      <th>Total Collection Amount</th>\n",
       "      <th>Total Current Balance</th>\n",
       "      <th>Total Revolving Credit Limit</th>\n",
       "      <th>Loan Status</th>\n",
       "    </tr>\n",
       "  </thead>\n",
       "  <tbody>\n",
       "    <tr>\n",
       "      <th>count</th>\n",
       "      <td>6.746300e+04</td>\n",
       "      <td>67463.000000</td>\n",
       "      <td>67463.000000</td>\n",
       "      <td>67463.000000</td>\n",
       "      <td>67463.000000</td>\n",
       "      <td>67463.000000</td>\n",
       "      <td>67463.000000</td>\n",
       "      <td>67463.000000</td>\n",
       "      <td>67463.000000</td>\n",
       "      <td>67463.000000</td>\n",
       "      <td>67463.000000</td>\n",
       "      <td>67463.000000</td>\n",
       "      <td>67463.000000</td>\n",
       "      <td>67463.000000</td>\n",
       "      <td>67463.000000</td>\n",
       "      <td>67463.000000</td>\n",
       "      <td>67463.000000</td>\n",
       "      <td>67463.000000</td>\n",
       "      <td>67463.000000</td>\n",
       "      <td>67463.000000</td>\n",
       "      <td>67463.000000</td>\n",
       "      <td>67463.0</td>\n",
       "      <td>67463.000000</td>\n",
       "      <td>6.746300e+04</td>\n",
       "      <td>67463.000000</td>\n",
       "      <td>67463.000000</td>\n",
       "    </tr>\n",
       "    <tr>\n",
       "      <th>mean</th>\n",
       "      <td>2.562761e+07</td>\n",
       "      <td>16848.902776</td>\n",
       "      <td>15770.599114</td>\n",
       "      <td>14621.799323</td>\n",
       "      <td>58.173814</td>\n",
       "      <td>11.846258</td>\n",
       "      <td>80541.502522</td>\n",
       "      <td>23.299241</td>\n",
       "      <td>0.327127</td>\n",
       "      <td>0.145754</td>\n",
       "      <td>14.266561</td>\n",
       "      <td>0.081437</td>\n",
       "      <td>7699.342425</td>\n",
       "      <td>52.889443</td>\n",
       "      <td>18.627929</td>\n",
       "      <td>2068.992542</td>\n",
       "      <td>1.143969</td>\n",
       "      <td>59.691578</td>\n",
       "      <td>1.125141</td>\n",
       "      <td>0.021301</td>\n",
       "      <td>71.163260</td>\n",
       "      <td>0.0</td>\n",
       "      <td>146.467990</td>\n",
       "      <td>1.595739e+05</td>\n",
       "      <td>23123.005544</td>\n",
       "      <td>0.092510</td>\n",
       "    </tr>\n",
       "    <tr>\n",
       "      <th>std</th>\n",
       "      <td>2.109155e+07</td>\n",
       "      <td>8367.865726</td>\n",
       "      <td>8150.992662</td>\n",
       "      <td>6785.345170</td>\n",
       "      <td>3.327441</td>\n",
       "      <td>3.718629</td>\n",
       "      <td>45029.120366</td>\n",
       "      <td>8.451824</td>\n",
       "      <td>0.800888</td>\n",
       "      <td>0.473291</td>\n",
       "      <td>6.225060</td>\n",
       "      <td>0.346606</td>\n",
       "      <td>7836.148190</td>\n",
       "      <td>22.539450</td>\n",
       "      <td>8.319246</td>\n",
       "      <td>2221.918745</td>\n",
       "      <td>5.244365</td>\n",
       "      <td>357.026346</td>\n",
       "      <td>3.489885</td>\n",
       "      <td>0.144385</td>\n",
       "      <td>43.315845</td>\n",
       "      <td>0.0</td>\n",
       "      <td>744.382233</td>\n",
       "      <td>1.390332e+05</td>\n",
       "      <td>20916.699999</td>\n",
       "      <td>0.289747</td>\n",
       "    </tr>\n",
       "    <tr>\n",
       "      <th>min</th>\n",
       "      <td>1.297933e+06</td>\n",
       "      <td>1014.000000</td>\n",
       "      <td>1014.000000</td>\n",
       "      <td>1114.590204</td>\n",
       "      <td>36.000000</td>\n",
       "      <td>5.320006</td>\n",
       "      <td>14573.537170</td>\n",
       "      <td>0.675299</td>\n",
       "      <td>0.000000</td>\n",
       "      <td>0.000000</td>\n",
       "      <td>2.000000</td>\n",
       "      <td>0.000000</td>\n",
       "      <td>0.000000</td>\n",
       "      <td>0.005172</td>\n",
       "      <td>4.000000</td>\n",
       "      <td>4.736746</td>\n",
       "      <td>0.000003</td>\n",
       "      <td>0.000036</td>\n",
       "      <td>0.000036</td>\n",
       "      <td>0.000000</td>\n",
       "      <td>0.000000</td>\n",
       "      <td>0.0</td>\n",
       "      <td>1.000000</td>\n",
       "      <td>6.170000e+02</td>\n",
       "      <td>1000.000000</td>\n",
       "      <td>0.000000</td>\n",
       "    </tr>\n",
       "    <tr>\n",
       "      <th>25%</th>\n",
       "      <td>6.570288e+06</td>\n",
       "      <td>10012.000000</td>\n",
       "      <td>9266.500000</td>\n",
       "      <td>9831.684984</td>\n",
       "      <td>58.000000</td>\n",
       "      <td>9.297147</td>\n",
       "      <td>51689.843335</td>\n",
       "      <td>16.756416</td>\n",
       "      <td>0.000000</td>\n",
       "      <td>0.000000</td>\n",
       "      <td>10.000000</td>\n",
       "      <td>0.000000</td>\n",
       "      <td>2557.000000</td>\n",
       "      <td>38.658825</td>\n",
       "      <td>13.000000</td>\n",
       "      <td>570.903814</td>\n",
       "      <td>0.021114</td>\n",
       "      <td>1.629818</td>\n",
       "      <td>0.476259</td>\n",
       "      <td>0.000000</td>\n",
       "      <td>35.000000</td>\n",
       "      <td>0.0</td>\n",
       "      <td>24.000000</td>\n",
       "      <td>5.037900e+04</td>\n",
       "      <td>8155.500000</td>\n",
       "      <td>0.000000</td>\n",
       "    </tr>\n",
       "    <tr>\n",
       "      <th>50%</th>\n",
       "      <td>1.791565e+07</td>\n",
       "      <td>16073.000000</td>\n",
       "      <td>13042.000000</td>\n",
       "      <td>12793.682170</td>\n",
       "      <td>59.000000</td>\n",
       "      <td>11.377696</td>\n",
       "      <td>69335.832680</td>\n",
       "      <td>22.656658</td>\n",
       "      <td>0.000000</td>\n",
       "      <td>0.000000</td>\n",
       "      <td>13.000000</td>\n",
       "      <td>0.000000</td>\n",
       "      <td>5516.000000</td>\n",
       "      <td>54.082334</td>\n",
       "      <td>18.000000</td>\n",
       "      <td>1330.842771</td>\n",
       "      <td>0.043398</td>\n",
       "      <td>3.344524</td>\n",
       "      <td>0.780141</td>\n",
       "      <td>0.000000</td>\n",
       "      <td>68.000000</td>\n",
       "      <td>0.0</td>\n",
       "      <td>36.000000</td>\n",
       "      <td>1.183690e+05</td>\n",
       "      <td>16733.000000</td>\n",
       "      <td>0.000000</td>\n",
       "    </tr>\n",
       "    <tr>\n",
       "      <th>75%</th>\n",
       "      <td>4.271521e+07</td>\n",
       "      <td>22106.000000</td>\n",
       "      <td>21793.000000</td>\n",
       "      <td>17807.594120</td>\n",
       "      <td>59.000000</td>\n",
       "      <td>14.193533</td>\n",
       "      <td>94623.322785</td>\n",
       "      <td>30.048400</td>\n",
       "      <td>0.000000</td>\n",
       "      <td>0.000000</td>\n",
       "      <td>16.000000</td>\n",
       "      <td>0.000000</td>\n",
       "      <td>10184.500000</td>\n",
       "      <td>69.177117</td>\n",
       "      <td>23.000000</td>\n",
       "      <td>2656.956837</td>\n",
       "      <td>0.071884</td>\n",
       "      <td>5.453727</td>\n",
       "      <td>1.070566</td>\n",
       "      <td>0.000000</td>\n",
       "      <td>105.000000</td>\n",
       "      <td>0.0</td>\n",
       "      <td>46.000000</td>\n",
       "      <td>2.283750e+05</td>\n",
       "      <td>32146.500000</td>\n",
       "      <td>0.000000</td>\n",
       "    </tr>\n",
       "    <tr>\n",
       "      <th>max</th>\n",
       "      <td>7.224578e+07</td>\n",
       "      <td>35000.000000</td>\n",
       "      <td>34999.000000</td>\n",
       "      <td>34999.746430</td>\n",
       "      <td>59.000000</td>\n",
       "      <td>27.182348</td>\n",
       "      <td>406561.536400</td>\n",
       "      <td>39.629862</td>\n",
       "      <td>8.000000</td>\n",
       "      <td>5.000000</td>\n",
       "      <td>37.000000</td>\n",
       "      <td>4.000000</td>\n",
       "      <td>116933.000000</td>\n",
       "      <td>100.880050</td>\n",
       "      <td>72.000000</td>\n",
       "      <td>14301.368310</td>\n",
       "      <td>42.618882</td>\n",
       "      <td>4354.467419</td>\n",
       "      <td>166.833000</td>\n",
       "      <td>1.000000</td>\n",
       "      <td>161.000000</td>\n",
       "      <td>0.0</td>\n",
       "      <td>16421.000000</td>\n",
       "      <td>1.177412e+06</td>\n",
       "      <td>201169.000000</td>\n",
       "      <td>1.000000</td>\n",
       "    </tr>\n",
       "  </tbody>\n",
       "</table>\n",
       "</div>\n",
       "      <button class=\"colab-df-convert\" onclick=\"convertToInteractive('df-4517407e-64e7-40c4-9566-e63230ccab5f')\"\n",
       "              title=\"Convert this dataframe to an interactive table.\"\n",
       "              style=\"display:none;\">\n",
       "        \n",
       "  <svg xmlns=\"http://www.w3.org/2000/svg\" height=\"24px\"viewBox=\"0 0 24 24\"\n",
       "       width=\"24px\">\n",
       "    <path d=\"M0 0h24v24H0V0z\" fill=\"none\"/>\n",
       "    <path d=\"M18.56 5.44l.94 2.06.94-2.06 2.06-.94-2.06-.94-.94-2.06-.94 2.06-2.06.94zm-11 1L8.5 8.5l.94-2.06 2.06-.94-2.06-.94L8.5 2.5l-.94 2.06-2.06.94zm10 10l.94 2.06.94-2.06 2.06-.94-2.06-.94-.94-2.06-.94 2.06-2.06.94z\"/><path d=\"M17.41 7.96l-1.37-1.37c-.4-.4-.92-.59-1.43-.59-.52 0-1.04.2-1.43.59L10.3 9.45l-7.72 7.72c-.78.78-.78 2.05 0 2.83L4 21.41c.39.39.9.59 1.41.59.51 0 1.02-.2 1.41-.59l7.78-7.78 2.81-2.81c.8-.78.8-2.07 0-2.86zM5.41 20L4 18.59l7.72-7.72 1.47 1.35L5.41 20z\"/>\n",
       "  </svg>\n",
       "      </button>\n",
       "      \n",
       "  <style>\n",
       "    .colab-df-container {\n",
       "      display:flex;\n",
       "      flex-wrap:wrap;\n",
       "      gap: 12px;\n",
       "    }\n",
       "\n",
       "    .colab-df-convert {\n",
       "      background-color: #E8F0FE;\n",
       "      border: none;\n",
       "      border-radius: 50%;\n",
       "      cursor: pointer;\n",
       "      display: none;\n",
       "      fill: #1967D2;\n",
       "      height: 32px;\n",
       "      padding: 0 0 0 0;\n",
       "      width: 32px;\n",
       "    }\n",
       "\n",
       "    .colab-df-convert:hover {\n",
       "      background-color: #E2EBFA;\n",
       "      box-shadow: 0px 1px 2px rgba(60, 64, 67, 0.3), 0px 1px 3px 1px rgba(60, 64, 67, 0.15);\n",
       "      fill: #174EA6;\n",
       "    }\n",
       "\n",
       "    [theme=dark] .colab-df-convert {\n",
       "      background-color: #3B4455;\n",
       "      fill: #D2E3FC;\n",
       "    }\n",
       "\n",
       "    [theme=dark] .colab-df-convert:hover {\n",
       "      background-color: #434B5C;\n",
       "      box-shadow: 0px 1px 3px 1px rgba(0, 0, 0, 0.15);\n",
       "      filter: drop-shadow(0px 1px 2px rgba(0, 0, 0, 0.3));\n",
       "      fill: #FFFFFF;\n",
       "    }\n",
       "  </style>\n",
       "\n",
       "      <script>\n",
       "        const buttonEl =\n",
       "          document.querySelector('#df-4517407e-64e7-40c4-9566-e63230ccab5f button.colab-df-convert');\n",
       "        buttonEl.style.display =\n",
       "          google.colab.kernel.accessAllowed ? 'block' : 'none';\n",
       "\n",
       "        async function convertToInteractive(key) {\n",
       "          const element = document.querySelector('#df-4517407e-64e7-40c4-9566-e63230ccab5f');\n",
       "          const dataTable =\n",
       "            await google.colab.kernel.invokeFunction('convertToInteractive',\n",
       "                                                     [key], {});\n",
       "          if (!dataTable) return;\n",
       "\n",
       "          const docLinkHtml = 'Like what you see? Visit the ' +\n",
       "            '<a target=\"_blank\" href=https://colab.research.google.com/notebooks/data_table.ipynb>data table notebook</a>'\n",
       "            + ' to learn more about interactive tables.';\n",
       "          element.innerHTML = '';\n",
       "          dataTable['output_type'] = 'display_data';\n",
       "          await google.colab.output.renderOutput(dataTable, element);\n",
       "          const docLink = document.createElement('div');\n",
       "          docLink.innerHTML = docLinkHtml;\n",
       "          element.appendChild(docLink);\n",
       "        }\n",
       "      </script>\n",
       "    </div>\n",
       "  </div>\n",
       "  "
      ],
      "text/plain": [
       "                 ID   Loan Amount  Funded Amount  Funded Amount Investor  \\\n",
       "count  6.746300e+04  67463.000000   67463.000000            67463.000000   \n",
       "mean   2.562761e+07  16848.902776   15770.599114            14621.799323   \n",
       "std    2.109155e+07   8367.865726    8150.992662             6785.345170   \n",
       "min    1.297933e+06   1014.000000    1014.000000             1114.590204   \n",
       "25%    6.570288e+06  10012.000000    9266.500000             9831.684984   \n",
       "50%    1.791565e+07  16073.000000   13042.000000            12793.682170   \n",
       "75%    4.271521e+07  22106.000000   21793.000000            17807.594120   \n",
       "max    7.224578e+07  35000.000000   34999.000000            34999.746430   \n",
       "\n",
       "               Term  Interest Rate  Home Ownership  Debit to Income  \\\n",
       "count  67463.000000   67463.000000    67463.000000     67463.000000   \n",
       "mean      58.173814      11.846258    80541.502522        23.299241   \n",
       "std        3.327441       3.718629    45029.120366         8.451824   \n",
       "min       36.000000       5.320006    14573.537170         0.675299   \n",
       "25%       58.000000       9.297147    51689.843335        16.756416   \n",
       "50%       59.000000      11.377696    69335.832680        22.656658   \n",
       "75%       59.000000      14.193533    94623.322785        30.048400   \n",
       "max       59.000000      27.182348   406561.536400        39.629862   \n",
       "\n",
       "       Delinquency - two years  Inquires - six months  Open Account  \\\n",
       "count             67463.000000           67463.000000  67463.000000   \n",
       "mean                  0.327127               0.145754     14.266561   \n",
       "std                   0.800888               0.473291      6.225060   \n",
       "min                   0.000000               0.000000      2.000000   \n",
       "25%                   0.000000               0.000000     10.000000   \n",
       "50%                   0.000000               0.000000     13.000000   \n",
       "75%                   0.000000               0.000000     16.000000   \n",
       "max                   8.000000               5.000000     37.000000   \n",
       "\n",
       "       Public Record  Revolving Balance  Revolving Utilities  Total Accounts  \\\n",
       "count   67463.000000       67463.000000         67463.000000    67463.000000   \n",
       "mean        0.081437        7699.342425            52.889443       18.627929   \n",
       "std         0.346606        7836.148190            22.539450        8.319246   \n",
       "min         0.000000           0.000000             0.005172        4.000000   \n",
       "25%         0.000000        2557.000000            38.658825       13.000000   \n",
       "50%         0.000000        5516.000000            54.082334       18.000000   \n",
       "75%         0.000000       10184.500000            69.177117       23.000000   \n",
       "max         4.000000      116933.000000           100.880050       72.000000   \n",
       "\n",
       "       Total Received Interest  Total Received Late Fee    Recoveries  \\\n",
       "count             67463.000000             67463.000000  67463.000000   \n",
       "mean               2068.992542                 1.143969     59.691578   \n",
       "std                2221.918745                 5.244365    357.026346   \n",
       "min                   4.736746                 0.000003      0.000036   \n",
       "25%                 570.903814                 0.021114      1.629818   \n",
       "50%                1330.842771                 0.043398      3.344524   \n",
       "75%                2656.956837                 0.071884      5.453727   \n",
       "max               14301.368310                42.618882   4354.467419   \n",
       "\n",
       "       Collection Recovery Fee  Collection 12 months Medical  Last week Pay  \\\n",
       "count             67463.000000                  67463.000000   67463.000000   \n",
       "mean                  1.125141                      0.021301      71.163260   \n",
       "std                   3.489885                      0.144385      43.315845   \n",
       "min                   0.000036                      0.000000       0.000000   \n",
       "25%                   0.476259                      0.000000      35.000000   \n",
       "50%                   0.780141                      0.000000      68.000000   \n",
       "75%                   1.070566                      0.000000     105.000000   \n",
       "max                 166.833000                      1.000000     161.000000   \n",
       "\n",
       "       Accounts Delinquent  Total Collection Amount  Total Current Balance  \\\n",
       "count              67463.0             67463.000000           6.746300e+04   \n",
       "mean                   0.0               146.467990           1.595739e+05   \n",
       "std                    0.0               744.382233           1.390332e+05   \n",
       "min                    0.0                 1.000000           6.170000e+02   \n",
       "25%                    0.0                24.000000           5.037900e+04   \n",
       "50%                    0.0                36.000000           1.183690e+05   \n",
       "75%                    0.0                46.000000           2.283750e+05   \n",
       "max                    0.0             16421.000000           1.177412e+06   \n",
       "\n",
       "       Total Revolving Credit Limit   Loan Status  \n",
       "count                  67463.000000  67463.000000  \n",
       "mean                   23123.005544      0.092510  \n",
       "std                    20916.699999      0.289747  \n",
       "min                     1000.000000      0.000000  \n",
       "25%                     8155.500000      0.000000  \n",
       "50%                    16733.000000      0.000000  \n",
       "75%                    32146.500000      0.000000  \n",
       "max                   201169.000000      1.000000  "
      ]
     },
     "execution_count": 10,
     "metadata": {},
     "output_type": "execute_result"
    }
   ],
   "source": [
    "df.describe()"
   ]
  },
  {
   "cell_type": "markdown",
   "id": "a15df7a8",
   "metadata": {
    "id": "a15df7a8"
   },
   "source": [
    "- The minimum applied loan is 1,014 dollars and maximum is 35,000(approx.) dollars which infers a wide range of the loan amount.\n",
    "- The mean interest rate is 11% and maximum is 27%."
   ]
  },
  {
   "cell_type": "code",
   "execution_count": null,
   "id": "3bf33a9f",
   "metadata": {
    "colab": {
     "base_uri": "https://localhost:8080/",
     "height": 253
    },
    "id": "3bf33a9f",
    "outputId": "82e426dc-eee0-4f6f-95be-1bddc9c4baef"
   },
   "outputs": [
    {
     "data": {
      "text/html": [
       "\n",
       "  <div id=\"df-15833b3b-fd64-4bbe-bb4c-80922d08a6ed\">\n",
       "    <div class=\"colab-df-container\">\n",
       "      <div>\n",
       "<style scoped>\n",
       "    .dataframe tbody tr th:only-of-type {\n",
       "        vertical-align: middle;\n",
       "    }\n",
       "\n",
       "    .dataframe tbody tr th {\n",
       "        vertical-align: top;\n",
       "    }\n",
       "\n",
       "    .dataframe thead th {\n",
       "        text-align: right;\n",
       "    }\n",
       "</style>\n",
       "<table border=\"1\" class=\"dataframe\">\n",
       "  <thead>\n",
       "    <tr style=\"text-align: right;\">\n",
       "      <th></th>\n",
       "      <th>Batch Enrolled</th>\n",
       "      <th>Grade</th>\n",
       "      <th>Sub Grade</th>\n",
       "      <th>Employment Duration</th>\n",
       "      <th>Verification Status</th>\n",
       "      <th>Payment Plan</th>\n",
       "      <th>Loan Title</th>\n",
       "      <th>Initial List Status</th>\n",
       "      <th>Application Type</th>\n",
       "    </tr>\n",
       "  </thead>\n",
       "  <tbody>\n",
       "    <tr>\n",
       "      <th>count</th>\n",
       "      <td>67463</td>\n",
       "      <td>67463</td>\n",
       "      <td>67463</td>\n",
       "      <td>67463</td>\n",
       "      <td>67463</td>\n",
       "      <td>67463</td>\n",
       "      <td>67463</td>\n",
       "      <td>67463</td>\n",
       "      <td>67463</td>\n",
       "    </tr>\n",
       "    <tr>\n",
       "      <th>unique</th>\n",
       "      <td>41</td>\n",
       "      <td>7</td>\n",
       "      <td>35</td>\n",
       "      <td>3</td>\n",
       "      <td>3</td>\n",
       "      <td>1</td>\n",
       "      <td>109</td>\n",
       "      <td>2</td>\n",
       "      <td>2</td>\n",
       "    </tr>\n",
       "    <tr>\n",
       "      <th>top</th>\n",
       "      <td>BAT3873588</td>\n",
       "      <td>C</td>\n",
       "      <td>B4</td>\n",
       "      <td>MORTGAGE</td>\n",
       "      <td>Source Verified</td>\n",
       "      <td>n</td>\n",
       "      <td>Credit card refinancing</td>\n",
       "      <td>w</td>\n",
       "      <td>INDIVIDUAL</td>\n",
       "    </tr>\n",
       "    <tr>\n",
       "      <th>freq</th>\n",
       "      <td>3626</td>\n",
       "      <td>19085</td>\n",
       "      <td>4462</td>\n",
       "      <td>36351</td>\n",
       "      <td>33036</td>\n",
       "      <td>67463</td>\n",
       "      <td>30728</td>\n",
       "      <td>36299</td>\n",
       "      <td>67340</td>\n",
       "    </tr>\n",
       "  </tbody>\n",
       "</table>\n",
       "</div>\n",
       "      <button class=\"colab-df-convert\" onclick=\"convertToInteractive('df-15833b3b-fd64-4bbe-bb4c-80922d08a6ed')\"\n",
       "              title=\"Convert this dataframe to an interactive table.\"\n",
       "              style=\"display:none;\">\n",
       "        \n",
       "  <svg xmlns=\"http://www.w3.org/2000/svg\" height=\"24px\"viewBox=\"0 0 24 24\"\n",
       "       width=\"24px\">\n",
       "    <path d=\"M0 0h24v24H0V0z\" fill=\"none\"/>\n",
       "    <path d=\"M18.56 5.44l.94 2.06.94-2.06 2.06-.94-2.06-.94-.94-2.06-.94 2.06-2.06.94zm-11 1L8.5 8.5l.94-2.06 2.06-.94-2.06-.94L8.5 2.5l-.94 2.06-2.06.94zm10 10l.94 2.06.94-2.06 2.06-.94-2.06-.94-.94-2.06-.94 2.06-2.06.94z\"/><path d=\"M17.41 7.96l-1.37-1.37c-.4-.4-.92-.59-1.43-.59-.52 0-1.04.2-1.43.59L10.3 9.45l-7.72 7.72c-.78.78-.78 2.05 0 2.83L4 21.41c.39.39.9.59 1.41.59.51 0 1.02-.2 1.41-.59l7.78-7.78 2.81-2.81c.8-.78.8-2.07 0-2.86zM5.41 20L4 18.59l7.72-7.72 1.47 1.35L5.41 20z\"/>\n",
       "  </svg>\n",
       "      </button>\n",
       "      \n",
       "  <style>\n",
       "    .colab-df-container {\n",
       "      display:flex;\n",
       "      flex-wrap:wrap;\n",
       "      gap: 12px;\n",
       "    }\n",
       "\n",
       "    .colab-df-convert {\n",
       "      background-color: #E8F0FE;\n",
       "      border: none;\n",
       "      border-radius: 50%;\n",
       "      cursor: pointer;\n",
       "      display: none;\n",
       "      fill: #1967D2;\n",
       "      height: 32px;\n",
       "      padding: 0 0 0 0;\n",
       "      width: 32px;\n",
       "    }\n",
       "\n",
       "    .colab-df-convert:hover {\n",
       "      background-color: #E2EBFA;\n",
       "      box-shadow: 0px 1px 2px rgba(60, 64, 67, 0.3), 0px 1px 3px 1px rgba(60, 64, 67, 0.15);\n",
       "      fill: #174EA6;\n",
       "    }\n",
       "\n",
       "    [theme=dark] .colab-df-convert {\n",
       "      background-color: #3B4455;\n",
       "      fill: #D2E3FC;\n",
       "    }\n",
       "\n",
       "    [theme=dark] .colab-df-convert:hover {\n",
       "      background-color: #434B5C;\n",
       "      box-shadow: 0px 1px 3px 1px rgba(0, 0, 0, 0.15);\n",
       "      filter: drop-shadow(0px 1px 2px rgba(0, 0, 0, 0.3));\n",
       "      fill: #FFFFFF;\n",
       "    }\n",
       "  </style>\n",
       "\n",
       "      <script>\n",
       "        const buttonEl =\n",
       "          document.querySelector('#df-15833b3b-fd64-4bbe-bb4c-80922d08a6ed button.colab-df-convert');\n",
       "        buttonEl.style.display =\n",
       "          google.colab.kernel.accessAllowed ? 'block' : 'none';\n",
       "\n",
       "        async function convertToInteractive(key) {\n",
       "          const element = document.querySelector('#df-15833b3b-fd64-4bbe-bb4c-80922d08a6ed');\n",
       "          const dataTable =\n",
       "            await google.colab.kernel.invokeFunction('convertToInteractive',\n",
       "                                                     [key], {});\n",
       "          if (!dataTable) return;\n",
       "\n",
       "          const docLinkHtml = 'Like what you see? Visit the ' +\n",
       "            '<a target=\"_blank\" href=https://colab.research.google.com/notebooks/data_table.ipynb>data table notebook</a>'\n",
       "            + ' to learn more about interactive tables.';\n",
       "          element.innerHTML = '';\n",
       "          dataTable['output_type'] = 'display_data';\n",
       "          await google.colab.output.renderOutput(dataTable, element);\n",
       "          const docLink = document.createElement('div');\n",
       "          docLink.innerHTML = docLinkHtml;\n",
       "          element.appendChild(docLink);\n",
       "        }\n",
       "      </script>\n",
       "    </div>\n",
       "  </div>\n",
       "  "
      ],
      "text/plain": [
       "       Batch Enrolled  Grade Sub Grade Employment Duration  \\\n",
       "count           67463  67463     67463               67463   \n",
       "unique             41      7        35                   3   \n",
       "top        BAT3873588      C        B4            MORTGAGE   \n",
       "freq             3626  19085      4462               36351   \n",
       "\n",
       "       Verification Status Payment Plan               Loan Title  \\\n",
       "count                67463        67463                    67463   \n",
       "unique                   3            1                      109   \n",
       "top        Source Verified            n  Credit card refinancing   \n",
       "freq                 33036        67463                    30728   \n",
       "\n",
       "       Initial List Status Application Type  \n",
       "count                67463            67463  \n",
       "unique                   2                2  \n",
       "top                      w       INDIVIDUAL  \n",
       "freq                 36299            67340  "
      ]
     },
     "execution_count": 11,
     "metadata": {},
     "output_type": "execute_result"
    }
   ],
   "source": [
    "df.describe(include='O')"
   ]
  },
  {
   "cell_type": "markdown",
   "id": "b4a37035",
   "metadata": {
    "id": "b4a37035"
   },
   "source": [
    "#### Drop the columns which you think redundant for the analysis."
   ]
  },
  {
   "cell_type": "code",
   "execution_count": null,
   "id": "4fb9297b",
   "metadata": {
    "id": "4fb9297b"
   },
   "outputs": [],
   "source": [
    "df.drop(['ID', 'Batch Enrolled', 'Grade', 'Sub Grade', 'Loan Title', 'Payment Plan'],axis=1, inplace=True)"
   ]
  },
  {
   "cell_type": "code",
   "execution_count": null,
   "id": "66a0c625",
   "metadata": {
    "colab": {
     "base_uri": "https://localhost:8080/",
     "height": 391
    },
    "id": "66a0c625",
    "outputId": "76ffe0d3-e927-4d35-c21c-0798605f7cf6"
   },
   "outputs": [
    {
     "data": {
      "text/html": [
       "\n",
       "  <div id=\"df-0bc08a18-6490-409b-adf4-2ff087bc75b0\">\n",
       "    <div class=\"colab-df-container\">\n",
       "      <div>\n",
       "<style scoped>\n",
       "    .dataframe tbody tr th:only-of-type {\n",
       "        vertical-align: middle;\n",
       "    }\n",
       "\n",
       "    .dataframe tbody tr th {\n",
       "        vertical-align: top;\n",
       "    }\n",
       "\n",
       "    .dataframe thead th {\n",
       "        text-align: right;\n",
       "    }\n",
       "</style>\n",
       "<table border=\"1\" class=\"dataframe\">\n",
       "  <thead>\n",
       "    <tr style=\"text-align: right;\">\n",
       "      <th></th>\n",
       "      <th>Loan Amount</th>\n",
       "      <th>Funded Amount</th>\n",
       "      <th>Funded Amount Investor</th>\n",
       "      <th>Term</th>\n",
       "      <th>Interest Rate</th>\n",
       "      <th>Employment Duration</th>\n",
       "      <th>Home Ownership</th>\n",
       "      <th>Verification Status</th>\n",
       "      <th>Debit to Income</th>\n",
       "      <th>Delinquency - two years</th>\n",
       "      <th>Inquires - six months</th>\n",
       "      <th>Open Account</th>\n",
       "      <th>Public Record</th>\n",
       "      <th>Revolving Balance</th>\n",
       "      <th>Revolving Utilities</th>\n",
       "      <th>Total Accounts</th>\n",
       "      <th>Initial List Status</th>\n",
       "      <th>Total Received Interest</th>\n",
       "      <th>Total Received Late Fee</th>\n",
       "      <th>Recoveries</th>\n",
       "      <th>Collection Recovery Fee</th>\n",
       "      <th>Collection 12 months Medical</th>\n",
       "      <th>Application Type</th>\n",
       "      <th>Last week Pay</th>\n",
       "      <th>Accounts Delinquent</th>\n",
       "      <th>Total Collection Amount</th>\n",
       "      <th>Total Current Balance</th>\n",
       "      <th>Total Revolving Credit Limit</th>\n",
       "      <th>Loan Status</th>\n",
       "    </tr>\n",
       "  </thead>\n",
       "  <tbody>\n",
       "    <tr>\n",
       "      <th>0</th>\n",
       "      <td>10000</td>\n",
       "      <td>32236</td>\n",
       "      <td>12329.36286</td>\n",
       "      <td>59</td>\n",
       "      <td>11.135007</td>\n",
       "      <td>MORTGAGE</td>\n",
       "      <td>176346.62670</td>\n",
       "      <td>Not Verified</td>\n",
       "      <td>16.284758</td>\n",
       "      <td>1</td>\n",
       "      <td>0</td>\n",
       "      <td>13</td>\n",
       "      <td>0</td>\n",
       "      <td>24246</td>\n",
       "      <td>74.932551</td>\n",
       "      <td>7</td>\n",
       "      <td>w</td>\n",
       "      <td>2929.646315</td>\n",
       "      <td>0.102055</td>\n",
       "      <td>2.498291</td>\n",
       "      <td>0.793724</td>\n",
       "      <td>0</td>\n",
       "      <td>INDIVIDUAL</td>\n",
       "      <td>49</td>\n",
       "      <td>0</td>\n",
       "      <td>31</td>\n",
       "      <td>311301</td>\n",
       "      <td>6619</td>\n",
       "      <td>0</td>\n",
       "    </tr>\n",
       "    <tr>\n",
       "      <th>1</th>\n",
       "      <td>3609</td>\n",
       "      <td>11940</td>\n",
       "      <td>12191.99692</td>\n",
       "      <td>59</td>\n",
       "      <td>12.237563</td>\n",
       "      <td>RENT</td>\n",
       "      <td>39833.92100</td>\n",
       "      <td>Source Verified</td>\n",
       "      <td>15.412409</td>\n",
       "      <td>0</td>\n",
       "      <td>0</td>\n",
       "      <td>12</td>\n",
       "      <td>0</td>\n",
       "      <td>812</td>\n",
       "      <td>78.297186</td>\n",
       "      <td>13</td>\n",
       "      <td>f</td>\n",
       "      <td>772.769385</td>\n",
       "      <td>0.036181</td>\n",
       "      <td>2.377215</td>\n",
       "      <td>0.974821</td>\n",
       "      <td>0</td>\n",
       "      <td>INDIVIDUAL</td>\n",
       "      <td>109</td>\n",
       "      <td>0</td>\n",
       "      <td>53</td>\n",
       "      <td>182610</td>\n",
       "      <td>20885</td>\n",
       "      <td>0</td>\n",
       "    </tr>\n",
       "    <tr>\n",
       "      <th>2</th>\n",
       "      <td>28276</td>\n",
       "      <td>9311</td>\n",
       "      <td>21603.22455</td>\n",
       "      <td>59</td>\n",
       "      <td>12.545884</td>\n",
       "      <td>MORTGAGE</td>\n",
       "      <td>91506.69105</td>\n",
       "      <td>Source Verified</td>\n",
       "      <td>28.137619</td>\n",
       "      <td>0</td>\n",
       "      <td>0</td>\n",
       "      <td>14</td>\n",
       "      <td>0</td>\n",
       "      <td>1843</td>\n",
       "      <td>2.073040</td>\n",
       "      <td>20</td>\n",
       "      <td>w</td>\n",
       "      <td>863.324396</td>\n",
       "      <td>18.778660</td>\n",
       "      <td>4.316277</td>\n",
       "      <td>1.020075</td>\n",
       "      <td>0</td>\n",
       "      <td>INDIVIDUAL</td>\n",
       "      <td>66</td>\n",
       "      <td>0</td>\n",
       "      <td>34</td>\n",
       "      <td>89801</td>\n",
       "      <td>26155</td>\n",
       "      <td>0</td>\n",
       "    </tr>\n",
       "    <tr>\n",
       "      <th>3</th>\n",
       "      <td>11170</td>\n",
       "      <td>6954</td>\n",
       "      <td>17877.15585</td>\n",
       "      <td>59</td>\n",
       "      <td>16.731201</td>\n",
       "      <td>MORTGAGE</td>\n",
       "      <td>108286.57590</td>\n",
       "      <td>Source Verified</td>\n",
       "      <td>18.043730</td>\n",
       "      <td>1</td>\n",
       "      <td>0</td>\n",
       "      <td>7</td>\n",
       "      <td>0</td>\n",
       "      <td>13819</td>\n",
       "      <td>67.467951</td>\n",
       "      <td>12</td>\n",
       "      <td>w</td>\n",
       "      <td>288.173196</td>\n",
       "      <td>0.044131</td>\n",
       "      <td>0.107020</td>\n",
       "      <td>0.749971</td>\n",
       "      <td>0</td>\n",
       "      <td>INDIVIDUAL</td>\n",
       "      <td>39</td>\n",
       "      <td>0</td>\n",
       "      <td>40</td>\n",
       "      <td>9189</td>\n",
       "      <td>60214</td>\n",
       "      <td>0</td>\n",
       "    </tr>\n",
       "    <tr>\n",
       "      <th>4</th>\n",
       "      <td>16890</td>\n",
       "      <td>13226</td>\n",
       "      <td>13539.92667</td>\n",
       "      <td>59</td>\n",
       "      <td>15.008300</td>\n",
       "      <td>MORTGAGE</td>\n",
       "      <td>44234.82545</td>\n",
       "      <td>Source Verified</td>\n",
       "      <td>17.209886</td>\n",
       "      <td>1</td>\n",
       "      <td>3</td>\n",
       "      <td>13</td>\n",
       "      <td>1</td>\n",
       "      <td>1544</td>\n",
       "      <td>85.250761</td>\n",
       "      <td>22</td>\n",
       "      <td>w</td>\n",
       "      <td>129.239553</td>\n",
       "      <td>19.306646</td>\n",
       "      <td>1294.818751</td>\n",
       "      <td>0.368953</td>\n",
       "      <td>0</td>\n",
       "      <td>INDIVIDUAL</td>\n",
       "      <td>18</td>\n",
       "      <td>0</td>\n",
       "      <td>430</td>\n",
       "      <td>126029</td>\n",
       "      <td>22579</td>\n",
       "      <td>0</td>\n",
       "    </tr>\n",
       "  </tbody>\n",
       "</table>\n",
       "</div>\n",
       "      <button class=\"colab-df-convert\" onclick=\"convertToInteractive('df-0bc08a18-6490-409b-adf4-2ff087bc75b0')\"\n",
       "              title=\"Convert this dataframe to an interactive table.\"\n",
       "              style=\"display:none;\">\n",
       "        \n",
       "  <svg xmlns=\"http://www.w3.org/2000/svg\" height=\"24px\"viewBox=\"0 0 24 24\"\n",
       "       width=\"24px\">\n",
       "    <path d=\"M0 0h24v24H0V0z\" fill=\"none\"/>\n",
       "    <path d=\"M18.56 5.44l.94 2.06.94-2.06 2.06-.94-2.06-.94-.94-2.06-.94 2.06-2.06.94zm-11 1L8.5 8.5l.94-2.06 2.06-.94-2.06-.94L8.5 2.5l-.94 2.06-2.06.94zm10 10l.94 2.06.94-2.06 2.06-.94-2.06-.94-.94-2.06-.94 2.06-2.06.94z\"/><path d=\"M17.41 7.96l-1.37-1.37c-.4-.4-.92-.59-1.43-.59-.52 0-1.04.2-1.43.59L10.3 9.45l-7.72 7.72c-.78.78-.78 2.05 0 2.83L4 21.41c.39.39.9.59 1.41.59.51 0 1.02-.2 1.41-.59l7.78-7.78 2.81-2.81c.8-.78.8-2.07 0-2.86zM5.41 20L4 18.59l7.72-7.72 1.47 1.35L5.41 20z\"/>\n",
       "  </svg>\n",
       "      </button>\n",
       "      \n",
       "  <style>\n",
       "    .colab-df-container {\n",
       "      display:flex;\n",
       "      flex-wrap:wrap;\n",
       "      gap: 12px;\n",
       "    }\n",
       "\n",
       "    .colab-df-convert {\n",
       "      background-color: #E8F0FE;\n",
       "      border: none;\n",
       "      border-radius: 50%;\n",
       "      cursor: pointer;\n",
       "      display: none;\n",
       "      fill: #1967D2;\n",
       "      height: 32px;\n",
       "      padding: 0 0 0 0;\n",
       "      width: 32px;\n",
       "    }\n",
       "\n",
       "    .colab-df-convert:hover {\n",
       "      background-color: #E2EBFA;\n",
       "      box-shadow: 0px 1px 2px rgba(60, 64, 67, 0.3), 0px 1px 3px 1px rgba(60, 64, 67, 0.15);\n",
       "      fill: #174EA6;\n",
       "    }\n",
       "\n",
       "    [theme=dark] .colab-df-convert {\n",
       "      background-color: #3B4455;\n",
       "      fill: #D2E3FC;\n",
       "    }\n",
       "\n",
       "    [theme=dark] .colab-df-convert:hover {\n",
       "      background-color: #434B5C;\n",
       "      box-shadow: 0px 1px 3px 1px rgba(0, 0, 0, 0.15);\n",
       "      filter: drop-shadow(0px 1px 2px rgba(0, 0, 0, 0.3));\n",
       "      fill: #FFFFFF;\n",
       "    }\n",
       "  </style>\n",
       "\n",
       "      <script>\n",
       "        const buttonEl =\n",
       "          document.querySelector('#df-0bc08a18-6490-409b-adf4-2ff087bc75b0 button.colab-df-convert');\n",
       "        buttonEl.style.display =\n",
       "          google.colab.kernel.accessAllowed ? 'block' : 'none';\n",
       "\n",
       "        async function convertToInteractive(key) {\n",
       "          const element = document.querySelector('#df-0bc08a18-6490-409b-adf4-2ff087bc75b0');\n",
       "          const dataTable =\n",
       "            await google.colab.kernel.invokeFunction('convertToInteractive',\n",
       "                                                     [key], {});\n",
       "          if (!dataTable) return;\n",
       "\n",
       "          const docLinkHtml = 'Like what you see? Visit the ' +\n",
       "            '<a target=\"_blank\" href=https://colab.research.google.com/notebooks/data_table.ipynb>data table notebook</a>'\n",
       "            + ' to learn more about interactive tables.';\n",
       "          element.innerHTML = '';\n",
       "          dataTable['output_type'] = 'display_data';\n",
       "          await google.colab.output.renderOutput(dataTable, element);\n",
       "          const docLink = document.createElement('div');\n",
       "          docLink.innerHTML = docLinkHtml;\n",
       "          element.appendChild(docLink);\n",
       "        }\n",
       "      </script>\n",
       "    </div>\n",
       "  </div>\n",
       "  "
      ],
      "text/plain": [
       "   Loan Amount  Funded Amount  Funded Amount Investor  Term  Interest Rate  \\\n",
       "0        10000          32236             12329.36286    59      11.135007   \n",
       "1         3609          11940             12191.99692    59      12.237563   \n",
       "2        28276           9311             21603.22455    59      12.545884   \n",
       "3        11170           6954             17877.15585    59      16.731201   \n",
       "4        16890          13226             13539.92667    59      15.008300   \n",
       "\n",
       "  Employment Duration  Home Ownership Verification Status  Debit to Income  \\\n",
       "0            MORTGAGE    176346.62670        Not Verified        16.284758   \n",
       "1                RENT     39833.92100     Source Verified        15.412409   \n",
       "2            MORTGAGE     91506.69105     Source Verified        28.137619   \n",
       "3            MORTGAGE    108286.57590     Source Verified        18.043730   \n",
       "4            MORTGAGE     44234.82545     Source Verified        17.209886   \n",
       "\n",
       "   Delinquency - two years  Inquires - six months  Open Account  \\\n",
       "0                        1                      0            13   \n",
       "1                        0                      0            12   \n",
       "2                        0                      0            14   \n",
       "3                        1                      0             7   \n",
       "4                        1                      3            13   \n",
       "\n",
       "   Public Record  Revolving Balance  Revolving Utilities  Total Accounts  \\\n",
       "0              0              24246            74.932551               7   \n",
       "1              0                812            78.297186              13   \n",
       "2              0               1843             2.073040              20   \n",
       "3              0              13819            67.467951              12   \n",
       "4              1               1544            85.250761              22   \n",
       "\n",
       "  Initial List Status  Total Received Interest  Total Received Late Fee  \\\n",
       "0                   w              2929.646315                 0.102055   \n",
       "1                   f               772.769385                 0.036181   \n",
       "2                   w               863.324396                18.778660   \n",
       "3                   w               288.173196                 0.044131   \n",
       "4                   w               129.239553                19.306646   \n",
       "\n",
       "    Recoveries  Collection Recovery Fee  Collection 12 months Medical  \\\n",
       "0     2.498291                 0.793724                             0   \n",
       "1     2.377215                 0.974821                             0   \n",
       "2     4.316277                 1.020075                             0   \n",
       "3     0.107020                 0.749971                             0   \n",
       "4  1294.818751                 0.368953                             0   \n",
       "\n",
       "  Application Type  Last week Pay  Accounts Delinquent  \\\n",
       "0       INDIVIDUAL             49                    0   \n",
       "1       INDIVIDUAL            109                    0   \n",
       "2       INDIVIDUAL             66                    0   \n",
       "3       INDIVIDUAL             39                    0   \n",
       "4       INDIVIDUAL             18                    0   \n",
       "\n",
       "   Total Collection Amount  Total Current Balance  \\\n",
       "0                       31                 311301   \n",
       "1                       53                 182610   \n",
       "2                       34                  89801   \n",
       "3                       40                   9189   \n",
       "4                      430                 126029   \n",
       "\n",
       "   Total Revolving Credit Limit  Loan Status  \n",
       "0                          6619            0  \n",
       "1                         20885            0  \n",
       "2                         26155            0  \n",
       "3                         60214            0  \n",
       "4                         22579            0  "
      ]
     },
     "execution_count": 13,
     "metadata": {},
     "output_type": "execute_result"
    }
   ],
   "source": [
    "df.head()"
   ]
  },
  {
   "cell_type": "markdown",
   "id": "b77096d7",
   "metadata": {
    "id": "b77096d7"
   },
   "source": [
    "#### Perform necessary univariate and multivariate analysis."
   ]
  },
  {
   "cell_type": "code",
   "execution_count": null,
   "id": "bcaf4f5e",
   "metadata": {
    "colab": {
     "base_uri": "https://localhost:8080/"
    },
    "id": "bcaf4f5e",
    "outputId": "f5ea6739-e4d7-4e78-f26b-8c7c2db328d5"
   },
   "outputs": [
    {
     "data": {
      "text/plain": [
       "['Employment Duration',\n",
       " 'Verification Status',\n",
       " 'Initial List Status',\n",
       " 'Application Type']"
      ]
     },
     "execution_count": 14,
     "metadata": {},
     "output_type": "execute_result"
    }
   ],
   "source": [
    "list(df.select_dtypes(include=['object']).columns)"
   ]
  },
  {
   "cell_type": "code",
   "execution_count": null,
   "id": "de176a4b",
   "metadata": {
    "colab": {
     "base_uri": "https://localhost:8080/",
     "height": 1000
    },
    "id": "de176a4b",
    "outputId": "f3d5dc0a-cc1b-412c-b1eb-6d79acf7f572",
    "scrolled": false
   },
   "outputs": [
    {
     "data": {
      "image/png": "[encoded data removed]",
      "text/plain": [
       "<Figure size 640x480 with 1 Axes>"
      ]
     },
     "metadata": {},
     "output_type": "display_data"
    },
    {
     "data": {
      "image/png": "[encoded data removed]",
      "text/plain": [
       "<Figure size 640x480 with 1 Axes>"
      ]
     },
     "metadata": {},
     "output_type": "display_data"
    },
    {
     "data": {
      "image/png": "[encoded data removed]",
      "text/plain": [
       "<Figure size 640x480 with 1 Axes>"
      ]
     },
     "metadata": {},
     "output_type": "display_data"
    },
    {
     "data": {
      "image/png": "[encoded data removed]",
      "text/plain": [
       "<Figure size 640x480 with 1 Axes>"
      ]
     },
     "metadata": {},
     "output_type": "display_data"
    }
   ],
   "source": [
    "list_cols = list(df.select_dtypes(include=['object']).columns)\n",
    "for col in list_cols:\n",
    "    ax= sns.countplot(x=df[col], hue= df['Loan Status'])\n",
    "    plt.show()"
   ]
  },
  {
   "cell_type": "code",
   "execution_count": null,
   "id": "684c7346",
   "metadata": {
    "colab": {
     "base_uri": "https://localhost:8080/",
     "height": 626
    },
    "id": "684c7346",
    "outputId": "d3e24387-b3e0-4a5d-9cbb-66872b29931b"
   },
   "outputs": [
    {
     "data": {
      "image/png": "[encoded data removed]",
      "text/plain": [
       "<Figure size 640x480 with 2 Axes>"
      ]
     },
     "metadata": {},
     "output_type": "display_data"
    }
   ],
   "source": [
    "sns.heatmap(df.corr(),cmap='flare', linecolor='black', linewidths=0.5)\n",
    "plt.show()"
   ]
  },
  {
   "cell_type": "markdown",
   "id": "c98f8e64",
   "metadata": {
    "id": "c98f8e64"
   },
   "source": [
    "- There seems to be negligible correlation between the features."
   ]
  },
  {
   "cell_type": "markdown",
   "id": "81ffec87",
   "metadata": {
    "id": "81ffec87"
   },
   "source": [
    "#### Check the distribution of the target column 'Loan Status', and comment on the class distribution."
   ]
  },
  {
   "cell_type": "code",
   "execution_count": null,
   "id": "7e62f1a4",
   "metadata": {
    "colab": {
     "base_uri": "https://localhost:8080/",
     "height": 450
    },
    "id": "7e62f1a4",
    "outputId": "bb622ba7-476b-4356-b8eb-81a9c5543760"
   },
   "outputs": [
    {
     "data": {
      "image/png": "[encoded data removed]",
      "text/plain": [
       "<Figure size 2000x700 with 2 Axes>"
      ]
     },
     "metadata": {},
     "output_type": "display_data"
    }
   ],
   "source": [
    "fig, (ax1, ax2) = plt.subplots(ncols=2, nrows=1, figsize=(20,7))\n",
    "ax1.pie(df['Loan Status'].value_counts().values, labels = df['Loan Status'].value_counts().index, startangle= 90, explode = [0.05,0] , autopct='%1.1f%%', textprops ={'fontsize': 15}, wedgeprops={'edgecolor':'black'})\n",
    "\n",
    "ax =sns.countplot(ax=ax2, x = df['Loan Status'])\n",
    "ax.set_xlabel('Loan Status', fontsize=15)\n",
    "ax.set_ylabel('count', fontsize=15)\n",
    "for label in ax.containers:\n",
    "    ax.bar_label(label, fontsize = 15, color = 'black')\n",
    "plt.xticks(fontsize= 15)\n",
    "plt.yticks(fontsize= 15)\n",
    "plt.tight_layout()"
   ]
  },
  {
   "cell_type": "markdown",
   "id": "1b221ae2",
   "metadata": {
    "id": "1b221ae2"
   },
   "source": [
    "- The feature 'Loan Status' is highly imbalanced."
   ]
  },
  {
   "cell_type": "markdown",
   "id": "620bc20d",
   "metadata": {
    "id": "620bc20d"
   },
   "source": [
    "### Step 3: Data preparation for model building."
   ]
  },
  {
   "cell_type": "markdown",
   "id": "ded2ac26",
   "metadata": {
    "id": "ded2ac26"
   },
   "source": [
    "#### Segregate the target and independent features."
   ]
  },
  {
   "cell_type": "code",
   "execution_count": null,
   "id": "33ed3833",
   "metadata": {
    "id": "33ed3833"
   },
   "outputs": [],
   "source": [
    "X = df.drop('Loan Status',axis=1)\n",
    "y = df['Loan Status']"
   ]
  },
  {
   "cell_type": "markdown",
   "id": "904a2b3f",
   "metadata": {
    "id": "904a2b3f"
   },
   "source": [
    "#### Encode the categorical data."
   ]
  },
  {
   "cell_type": "code",
   "execution_count": null,
   "id": "d7adefe7",
   "metadata": {
    "colab": {
     "base_uri": "https://localhost:8080/"
    },
    "id": "d7adefe7",
    "outputId": "674429bd-3dc9-4e67-e826-e14cf9955c24"
   },
   "outputs": [
    {
     "name": "stdout",
     "output_type": "stream",
     "text": [
      "Employment Duration 3 ['MORTGAGE', 'RENT', 'OWN']\n",
      "Verification Status 3 ['Not Verified', 'Source Verified', 'Verified']\n",
      "Initial List Status 2 ['w', 'f']\n",
      "Application Type 2 ['INDIVIDUAL', 'JOINT']\n"
     ]
    }
   ],
   "source": [
    "l1 = list(df.select_dtypes(include=['object']).columns)\n",
    "for x in l1:\n",
    "    print(x,df[x].nunique(),list(df[x].unique()))"
   ]
  },
  {
   "cell_type": "markdown",
   "id": "2a0226ed",
   "metadata": {
    "id": "2a0226ed"
   },
   "source": [
    "- Since there are more than 2 categories in categorical columns it is better if we use one-hot encoding"
   ]
  },
  {
   "cell_type": "code",
   "execution_count": null,
   "id": "d722f614",
   "metadata": {
    "id": "d722f614"
   },
   "outputs": [],
   "source": [
    "X = pd.get_dummies(X,drop_first=True)"
   ]
  },
  {
   "cell_type": "code",
   "execution_count": null,
   "id": "95902203",
   "metadata": {
    "colab": {
     "base_uri": "https://localhost:8080/",
     "height": 322
    },
    "id": "95902203",
    "outputId": "c0bb1539-4018-476d-ae44-df395eb2a77c"
   },
   "outputs": [
    {
     "data": {
      "text/html": [
       "\n",
       "  <div id=\"df-7c866816-ab8d-4ed1-93f2-b19f6ce75a27\">\n",
       "    <div class=\"colab-df-container\">\n",
       "      <div>\n",
       "<style scoped>\n",
       "    .dataframe tbody tr th:only-of-type {\n",
       "        vertical-align: middle;\n",
       "    }\n",
       "\n",
       "    .dataframe tbody tr th {\n",
       "        vertical-align: top;\n",
       "    }\n",
       "\n",
       "    .dataframe thead th {\n",
       "        text-align: right;\n",
       "    }\n",
       "</style>\n",
       "<table border=\"1\" class=\"dataframe\">\n",
       "  <thead>\n",
       "    <tr style=\"text-align: right;\">\n",
       "      <th></th>\n",
       "      <th>Loan Amount</th>\n",
       "      <th>Funded Amount</th>\n",
       "      <th>Funded Amount Investor</th>\n",
       "      <th>Term</th>\n",
       "      <th>Interest Rate</th>\n",
       "      <th>Home Ownership</th>\n",
       "      <th>Debit to Income</th>\n",
       "      <th>Delinquency - two years</th>\n",
       "      <th>Inquires - six months</th>\n",
       "      <th>Open Account</th>\n",
       "      <th>Public Record</th>\n",
       "      <th>Revolving Balance</th>\n",
       "      <th>Revolving Utilities</th>\n",
       "      <th>Total Accounts</th>\n",
       "      <th>Total Received Interest</th>\n",
       "      <th>Total Received Late Fee</th>\n",
       "      <th>Recoveries</th>\n",
       "      <th>Collection Recovery Fee</th>\n",
       "      <th>Collection 12 months Medical</th>\n",
       "      <th>Last week Pay</th>\n",
       "      <th>Accounts Delinquent</th>\n",
       "      <th>Total Collection Amount</th>\n",
       "      <th>Total Current Balance</th>\n",
       "      <th>Total Revolving Credit Limit</th>\n",
       "      <th>Employment Duration_OWN</th>\n",
       "      <th>Employment Duration_RENT</th>\n",
       "      <th>Verification Status_Source Verified</th>\n",
       "      <th>Verification Status_Verified</th>\n",
       "      <th>Initial List Status_w</th>\n",
       "      <th>Application Type_JOINT</th>\n",
       "    </tr>\n",
       "  </thead>\n",
       "  <tbody>\n",
       "    <tr>\n",
       "      <th>0</th>\n",
       "      <td>10000</td>\n",
       "      <td>32236</td>\n",
       "      <td>12329.36286</td>\n",
       "      <td>59</td>\n",
       "      <td>11.135007</td>\n",
       "      <td>176346.62670</td>\n",
       "      <td>16.284758</td>\n",
       "      <td>1</td>\n",
       "      <td>0</td>\n",
       "      <td>13</td>\n",
       "      <td>0</td>\n",
       "      <td>24246</td>\n",
       "      <td>74.932551</td>\n",
       "      <td>7</td>\n",
       "      <td>2929.646315</td>\n",
       "      <td>0.102055</td>\n",
       "      <td>2.498291</td>\n",
       "      <td>0.793724</td>\n",
       "      <td>0</td>\n",
       "      <td>49</td>\n",
       "      <td>0</td>\n",
       "      <td>31</td>\n",
       "      <td>311301</td>\n",
       "      <td>6619</td>\n",
       "      <td>0</td>\n",
       "      <td>0</td>\n",
       "      <td>0</td>\n",
       "      <td>0</td>\n",
       "      <td>1</td>\n",
       "      <td>0</td>\n",
       "    </tr>\n",
       "    <tr>\n",
       "      <th>1</th>\n",
       "      <td>3609</td>\n",
       "      <td>11940</td>\n",
       "      <td>12191.99692</td>\n",
       "      <td>59</td>\n",
       "      <td>12.237563</td>\n",
       "      <td>39833.92100</td>\n",
       "      <td>15.412409</td>\n",
       "      <td>0</td>\n",
       "      <td>0</td>\n",
       "      <td>12</td>\n",
       "      <td>0</td>\n",
       "      <td>812</td>\n",
       "      <td>78.297186</td>\n",
       "      <td>13</td>\n",
       "      <td>772.769385</td>\n",
       "      <td>0.036181</td>\n",
       "      <td>2.377215</td>\n",
       "      <td>0.974821</td>\n",
       "      <td>0</td>\n",
       "      <td>109</td>\n",
       "      <td>0</td>\n",
       "      <td>53</td>\n",
       "      <td>182610</td>\n",
       "      <td>20885</td>\n",
       "      <td>0</td>\n",
       "      <td>1</td>\n",
       "      <td>1</td>\n",
       "      <td>0</td>\n",
       "      <td>0</td>\n",
       "      <td>0</td>\n",
       "    </tr>\n",
       "    <tr>\n",
       "      <th>2</th>\n",
       "      <td>28276</td>\n",
       "      <td>9311</td>\n",
       "      <td>21603.22455</td>\n",
       "      <td>59</td>\n",
       "      <td>12.545884</td>\n",
       "      <td>91506.69105</td>\n",
       "      <td>28.137619</td>\n",
       "      <td>0</td>\n",
       "      <td>0</td>\n",
       "      <td>14</td>\n",
       "      <td>0</td>\n",
       "      <td>1843</td>\n",
       "      <td>2.073040</td>\n",
       "      <td>20</td>\n",
       "      <td>863.324396</td>\n",
       "      <td>18.778660</td>\n",
       "      <td>4.316277</td>\n",
       "      <td>1.020075</td>\n",
       "      <td>0</td>\n",
       "      <td>66</td>\n",
       "      <td>0</td>\n",
       "      <td>34</td>\n",
       "      <td>89801</td>\n",
       "      <td>26155</td>\n",
       "      <td>0</td>\n",
       "      <td>0</td>\n",
       "      <td>1</td>\n",
       "      <td>0</td>\n",
       "      <td>1</td>\n",
       "      <td>0</td>\n",
       "    </tr>\n",
       "    <tr>\n",
       "      <th>3</th>\n",
       "      <td>11170</td>\n",
       "      <td>6954</td>\n",
       "      <td>17877.15585</td>\n",
       "      <td>59</td>\n",
       "      <td>16.731201</td>\n",
       "      <td>108286.57590</td>\n",
       "      <td>18.043730</td>\n",
       "      <td>1</td>\n",
       "      <td>0</td>\n",
       "      <td>7</td>\n",
       "      <td>0</td>\n",
       "      <td>13819</td>\n",
       "      <td>67.467951</td>\n",
       "      <td>12</td>\n",
       "      <td>288.173196</td>\n",
       "      <td>0.044131</td>\n",
       "      <td>0.107020</td>\n",
       "      <td>0.749971</td>\n",
       "      <td>0</td>\n",
       "      <td>39</td>\n",
       "      <td>0</td>\n",
       "      <td>40</td>\n",
       "      <td>9189</td>\n",
       "      <td>60214</td>\n",
       "      <td>0</td>\n",
       "      <td>0</td>\n",
       "      <td>1</td>\n",
       "      <td>0</td>\n",
       "      <td>1</td>\n",
       "      <td>0</td>\n",
       "    </tr>\n",
       "    <tr>\n",
       "      <th>4</th>\n",
       "      <td>16890</td>\n",
       "      <td>13226</td>\n",
       "      <td>13539.92667</td>\n",
       "      <td>59</td>\n",
       "      <td>15.008300</td>\n",
       "      <td>44234.82545</td>\n",
       "      <td>17.209886</td>\n",
       "      <td>1</td>\n",
       "      <td>3</td>\n",
       "      <td>13</td>\n",
       "      <td>1</td>\n",
       "      <td>1544</td>\n",
       "      <td>85.250761</td>\n",
       "      <td>22</td>\n",
       "      <td>129.239553</td>\n",
       "      <td>19.306646</td>\n",
       "      <td>1294.818751</td>\n",
       "      <td>0.368953</td>\n",
       "      <td>0</td>\n",
       "      <td>18</td>\n",
       "      <td>0</td>\n",
       "      <td>430</td>\n",
       "      <td>126029</td>\n",
       "      <td>22579</td>\n",
       "      <td>0</td>\n",
       "      <td>0</td>\n",
       "      <td>1</td>\n",
       "      <td>0</td>\n",
       "      <td>1</td>\n",
       "      <td>0</td>\n",
       "    </tr>\n",
       "  </tbody>\n",
       "</table>\n",
       "</div>\n",
       "      <button class=\"colab-df-convert\" onclick=\"convertToInteractive('df-7c866816-ab8d-4ed1-93f2-b19f6ce75a27')\"\n",
       "              title=\"Convert this dataframe to an interactive table.\"\n",
       "              style=\"display:none;\">\n",
       "        \n",
       "  <svg xmlns=\"http://www.w3.org/2000/svg\" height=\"24px\"viewBox=\"0 0 24 24\"\n",
       "       width=\"24px\">\n",
       "    <path d=\"M0 0h24v24H0V0z\" fill=\"none\"/>\n",
       "    <path d=\"M18.56 5.44l.94 2.06.94-2.06 2.06-.94-2.06-.94-.94-2.06-.94 2.06-2.06.94zm-11 1L8.5 8.5l.94-2.06 2.06-.94-2.06-.94L8.5 2.5l-.94 2.06-2.06.94zm10 10l.94 2.06.94-2.06 2.06-.94-2.06-.94-.94-2.06-.94 2.06-2.06.94z\"/><path d=\"M17.41 7.96l-1.37-1.37c-.4-.4-.92-.59-1.43-.59-.52 0-1.04.2-1.43.59L10.3 9.45l-7.72 7.72c-.78.78-.78 2.05 0 2.83L4 21.41c.39.39.9.59 1.41.59.51 0 1.02-.2 1.41-.59l7.78-7.78 2.81-2.81c.8-.78.8-2.07 0-2.86zM5.41 20L4 18.59l7.72-7.72 1.47 1.35L5.41 20z\"/>\n",
       "  </svg>\n",
       "      </button>\n",
       "      \n",
       "  <style>\n",
       "    .colab-df-container {\n",
       "      display:flex;\n",
       "      flex-wrap:wrap;\n",
       "      gap: 12px;\n",
       "    }\n",
       "\n",
       "    .colab-df-convert {\n",
       "      background-color: #E8F0FE;\n",
       "      border: none;\n",
       "      border-radius: 50%;\n",
       "      cursor: pointer;\n",
       "      display: none;\n",
       "      fill: #1967D2;\n",
       "      height: 32px;\n",
       "      padding: 0 0 0 0;\n",
       "      width: 32px;\n",
       "    }\n",
       "\n",
       "    .colab-df-convert:hover {\n",
       "      background-color: #E2EBFA;\n",
       "      box-shadow: 0px 1px 2px rgba(60, 64, 67, 0.3), 0px 1px 3px 1px rgba(60, 64, 67, 0.15);\n",
       "      fill: #174EA6;\n",
       "    }\n",
       "\n",
       "    [theme=dark] .colab-df-convert {\n",
       "      background-color: #3B4455;\n",
       "      fill: #D2E3FC;\n",
       "    }\n",
       "\n",
       "    [theme=dark] .colab-df-convert:hover {\n",
       "      background-color: #434B5C;\n",
       "      box-shadow: 0px 1px 3px 1px rgba(0, 0, 0, 0.15);\n",
       "      filter: drop-shadow(0px 1px 2px rgba(0, 0, 0, 0.3));\n",
       "      fill: #FFFFFF;\n",
       "    }\n",
       "  </style>\n",
       "\n",
       "      <script>\n",
       "        const buttonEl =\n",
       "          document.querySelector('#df-7c866816-ab8d-4ed1-93f2-b19f6ce75a27 button.colab-df-convert');\n",
       "        buttonEl.style.display =\n",
       "          google.colab.kernel.accessAllowed ? 'block' : 'none';\n",
       "\n",
       "        async function convertToInteractive(key) {\n",
       "          const element = document.querySelector('#df-7c866816-ab8d-4ed1-93f2-b19f6ce75a27');\n",
       "          const dataTable =\n",
       "            await google.colab.kernel.invokeFunction('convertToInteractive',\n",
       "                                                     [key], {});\n",
       "          if (!dataTable) return;\n",
       "\n",
       "          const docLinkHtml = 'Like what you see? Visit the ' +\n",
       "            '<a target=\"_blank\" href=https://colab.research.google.com/notebooks/data_table.ipynb>data table notebook</a>'\n",
       "            + ' to learn more about interactive tables.';\n",
       "          element.innerHTML = '';\n",
       "          dataTable['output_type'] = 'display_data';\n",
       "          await google.colab.output.renderOutput(dataTable, element);\n",
       "          const docLink = document.createElement('div');\n",
       "          docLink.innerHTML = docLinkHtml;\n",
       "          element.appendChild(docLink);\n",
       "        }\n",
       "      </script>\n",
       "    </div>\n",
       "  </div>\n",
       "  "
      ],
      "text/plain": [
       "   Loan Amount  Funded Amount  Funded Amount Investor  Term  Interest Rate  \\\n",
       "0        10000          32236             12329.36286    59      11.135007   \n",
       "1         3609          11940             12191.99692    59      12.237563   \n",
       "2        28276           9311             21603.22455    59      12.545884   \n",
       "3        11170           6954             17877.15585    59      16.731201   \n",
       "4        16890          13226             13539.92667    59      15.008300   \n",
       "\n",
       "   Home Ownership  Debit to Income  Delinquency - two years  \\\n",
       "0    176346.62670        16.284758                        1   \n",
       "1     39833.92100        15.412409                        0   \n",
       "2     91506.69105        28.137619                        0   \n",
       "3    108286.57590        18.043730                        1   \n",
       "4     44234.82545        17.209886                        1   \n",
       "\n",
       "   Inquires - six months  Open Account  Public Record  Revolving Balance  \\\n",
       "0                      0            13              0              24246   \n",
       "1                      0            12              0                812   \n",
       "2                      0            14              0               1843   \n",
       "3                      0             7              0              13819   \n",
       "4                      3            13              1               1544   \n",
       "\n",
       "   Revolving Utilities  Total Accounts  Total Received Interest  \\\n",
       "0            74.932551               7              2929.646315   \n",
       "1            78.297186              13               772.769385   \n",
       "2             2.073040              20               863.324396   \n",
       "3            67.467951              12               288.173196   \n",
       "4            85.250761              22               129.239553   \n",
       "\n",
       "   Total Received Late Fee   Recoveries  Collection Recovery Fee  \\\n",
       "0                 0.102055     2.498291                 0.793724   \n",
       "1                 0.036181     2.377215                 0.974821   \n",
       "2                18.778660     4.316277                 1.020075   \n",
       "3                 0.044131     0.107020                 0.749971   \n",
       "4                19.306646  1294.818751                 0.368953   \n",
       "\n",
       "   Collection 12 months Medical  Last week Pay  Accounts Delinquent  \\\n",
       "0                             0             49                    0   \n",
       "1                             0            109                    0   \n",
       "2                             0             66                    0   \n",
       "3                             0             39                    0   \n",
       "4                             0             18                    0   \n",
       "\n",
       "   Total Collection Amount  Total Current Balance  \\\n",
       "0                       31                 311301   \n",
       "1                       53                 182610   \n",
       "2                       34                  89801   \n",
       "3                       40                   9189   \n",
       "4                      430                 126029   \n",
       "\n",
       "   Total Revolving Credit Limit  Employment Duration_OWN  \\\n",
       "0                          6619                        0   \n",
       "1                         20885                        0   \n",
       "2                         26155                        0   \n",
       "3                         60214                        0   \n",
       "4                         22579                        0   \n",
       "\n",
       "   Employment Duration_RENT  Verification Status_Source Verified  \\\n",
       "0                         0                                    0   \n",
       "1                         1                                    1   \n",
       "2                         0                                    1   \n",
       "3                         0                                    1   \n",
       "4                         0                                    1   \n",
       "\n",
       "   Verification Status_Verified  Initial List Status_w  Application Type_JOINT  \n",
       "0                             0                      1                       0  \n",
       "1                             0                      0                       0  \n",
       "2                             0                      1                       0  \n",
       "3                             0                      1                       0  \n",
       "4                             0                      1                       0  "
      ]
     },
     "execution_count": 21,
     "metadata": {},
     "output_type": "execute_result"
    }
   ],
   "source": [
    "X.head()"
   ]
  },
  {
   "cell_type": "markdown",
   "id": "06ab5e35",
   "metadata": {
    "id": "06ab5e35"
   },
   "source": [
    "#### Handle the imbalanced data using oversampling or under sampling approach, and check the distribution of the re-sampled target class"
   ]
  },
  {
   "cell_type": "code",
   "execution_count": null,
   "id": "d42f23dc",
   "metadata": {
    "id": "d42f23dc"
   },
   "outputs": [],
   "source": [
    "# using Oversampling approach for imbalanced data"
   ]
  },
  {
   "cell_type": "code",
   "execution_count": null,
   "id": "fed80719",
   "metadata": {
    "id": "fed80719"
   },
   "outputs": [],
   "source": [
    "from imblearn.over_sampling import SMOTE\n",
    "\n",
    "smote = SMOTE(sampling_strategy=0.65)\n",
    "X_res,y_res = smote.fit_resample(X,y)"
   ]
  },
  {
   "cell_type": "code",
   "execution_count": null,
   "id": "728e67ad",
   "metadata": {
    "colab": {
     "base_uri": "https://localhost:8080/"
    },
    "id": "728e67ad",
    "outputId": "ebf5517c-245b-4c11-cf50-71680b472016"
   },
   "outputs": [
    {
     "data": {
      "text/plain": [
       "((101016, 30), (101016,))"
      ]
     },
     "execution_count": 23,
     "metadata": {},
     "output_type": "execute_result"
    }
   ],
   "source": [
    "X_res.shape,y_res.shape"
   ]
  },
  {
   "cell_type": "code",
   "execution_count": null,
   "id": "3eb0b685",
   "metadata": {
    "colab": {
     "base_uri": "https://localhost:8080/"
    },
    "id": "3eb0b685",
    "outputId": "4b0e33b2-df89-4f55-9e16-03dc42684aae"
   },
   "outputs": [
    {
     "data": {
      "text/plain": [
       "Loan Status\n",
       "0              60.606241\n",
       "1              39.393759\n",
       "dtype: float64"
      ]
     },
     "execution_count": 24,
     "metadata": {},
     "output_type": "execute_result"
    }
   ],
   "source": [
    "## Checking the distribution of the resampled target class\n",
    "pd.DataFrame(y_res).value_counts(normalize=True)*100"
   ]
  },
  {
   "cell_type": "markdown",
   "id": "b1a50998",
   "metadata": {
    "id": "b1a50998"
   },
   "source": [
    "#### Split the data into train and test"
   ]
  },
  {
   "cell_type": "code",
   "execution_count": null,
   "id": "7008318f",
   "metadata": {
    "colab": {
     "base_uri": "https://localhost:8080/"
    },
    "id": "7008318f",
    "outputId": "542e5183-db49-4871-eb92-bac5156ab10c"
   },
   "outputs": [
    {
     "name": "stdout",
     "output_type": "stream",
     "text": [
      "(70711, 30) (30305, 30)\n",
      "(70711,) (30305,)\n"
     ]
    }
   ],
   "source": [
    "## Splitting the balanced data into train and test.\n",
    "X_train, X_test, y_train, y_test = train_test_split(X_res,y_res, test_size=0.30, random_state=42)\n",
    "\n",
    "print(X_train.shape,X_test.shape)\n",
    "print(y_train.shape,y_test.shape)"
   ]
  },
  {
   "cell_type": "markdown",
   "id": "fde7b3c0",
   "metadata": {
    "id": "fde7b3c0"
   },
   "source": [
    "#### Select the K best features using wrapper or embedded methods"
   ]
  },
  {
   "cell_type": "code",
   "execution_count": null,
   "id": "3f85beff",
   "metadata": {
    "id": "3f85beff"
   },
   "outputs": [],
   "source": [
    "selector = SelectFromModel(estimator=RandomForestClassifier()).fit(X_res, y_res)"
   ]
  },
  {
   "cell_type": "code",
   "execution_count": null,
   "id": "4509f95b",
   "metadata": {
    "colab": {
     "base_uri": "https://localhost:8080/"
    },
    "id": "4509f95b",
    "outputId": "ecacc8f9-c45b-4ed8-c81a-edd7240666b3"
   },
   "outputs": [
    {
     "data": {
      "text/plain": [
       "array([ True,  True,  True, False,  True,  True,  True, False, False,\n",
       "       False, False,  True,  True, False,  True,  True,  True,  True,\n",
       "       False,  True, False,  True,  True,  True, False,  True,  True,\n",
       "        True,  True, False])"
      ]
     },
     "execution_count": 27,
     "metadata": {},
     "output_type": "execute_result"
    }
   ],
   "source": [
    "selector.get_support()"
   ]
  },
  {
   "cell_type": "code",
   "execution_count": null,
   "id": "28bf28fb",
   "metadata": {
    "colab": {
     "base_uri": "https://localhost:8080/"
    },
    "id": "28bf28fb",
    "outputId": "1b4463b5-5bea-4560-8d1d-b8561c056e66"
   },
   "outputs": [
    {
     "name": "stdout",
     "output_type": "stream",
     "text": [
      "Index(['Loan Amount', 'Funded Amount', 'Funded Amount Investor',\n",
      "       'Interest Rate', 'Home Ownership', 'Debit to Income',\n",
      "       'Revolving Balance', 'Revolving Utilities', 'Total Received Interest',\n",
      "       'Total Received Late Fee', 'Recoveries', 'Collection Recovery Fee',\n",
      "       'Last week Pay', 'Total Collection Amount', 'Total Current Balance',\n",
      "       'Total Revolving Credit Limit', 'Employment Duration_RENT',\n",
      "       'Verification Status_Source Verified', 'Verification Status_Verified',\n",
      "       'Initial List Status_w'],\n",
      "      dtype='object')\n",
      "\n",
      "\n",
      "number of features selected out of 30 features: 20\n"
     ]
    }
   ],
   "source": [
    "selected_features = X_res.columns[(selector.get_support())]\n",
    "print(selected_features)\n",
    "print('\\n')\n",
    "print('number of features selected out of 30 features:',len(selected_features))"
   ]
  },
  {
   "cell_type": "markdown",
   "id": "71cc8efd",
   "metadata": {
    "id": "71cc8efd"
   },
   "source": [
    "### Step 4: Model Building and evaluation."
   ]
  },
  {
   "cell_type": "markdown",
   "id": "d79f1247",
   "metadata": {
    "id": "d79f1247"
   },
   "source": [
    "#### Build a base model using the Original Imbalanced data."
   ]
  },
  {
   "cell_type": "code",
   "execution_count": null,
   "id": "684389be",
   "metadata": {
    "colab": {
     "base_uri": "https://localhost:8080/"
    },
    "id": "684389be",
    "outputId": "abe7388e-045f-4aec-c23a-594148996d5e"
   },
   "outputs": [
    {
     "name": "stdout",
     "output_type": "stream",
     "text": [
      "(47224, 30) (20239, 30)\n",
      "(47224,) (20239,)\n"
     ]
    }
   ],
   "source": [
    "## Splitting dataset into train and test\n",
    "\n",
    "X_train_base, X_test_base, y_train_base, y_test_base = train_test_split(X,y, test_size=0.30, random_state=42)\n",
    "\n",
    "print(X_train_base.shape,X_test_base.shape)\n",
    "print(y_train_base.shape,y_test_base.shape)"
   ]
  },
  {
   "cell_type": "code",
   "execution_count": null,
   "id": "a6f32825",
   "metadata": {
    "colab": {
     "base_uri": "https://localhost:8080/"
    },
    "id": "a6f32825",
    "outputId": "cf3ed98a-c3ef-4289-b7f3-05ef8c40dbd7"
   },
   "outputs": [
    {
     "name": "stdout",
     "output_type": "stream",
     "text": [
      "Accuracy: 0.9084440930876031\n",
      "Recall: 0.0\n",
      "Confusion Matrix:\n",
      "               precision    recall  f1-score   support\n",
      "\n",
      "           0       1.00      0.91      0.95     20239\n",
      "           1       0.00      0.00      0.00         0\n",
      "\n",
      "    accuracy                           0.91     20239\n",
      "   macro avg       0.50      0.45      0.48     20239\n",
      "weighted avg       1.00      0.91      0.95     20239\n",
      "\n"
     ]
    }
   ],
   "source": [
    "## Building a simple random forest classifier as a base model using original data.\n",
    "rf = RandomForestClassifier()\n",
    "rf.fit(X_train_base,y_train_base)\n",
    "\n",
    "## Prediction on original test data\n",
    "og_prediction = rf.predict(X_test_base)\n",
    "\n",
    "## Computing Accuracy, Recall, and Confusion matrix for test data\n",
    "print(\"Accuracy:\",metrics.accuracy_score(og_prediction,y_test_base))\n",
    "print(\"Recall:\",metrics.recall_score(og_prediction,y_test_base))\n",
    "print(\"Confusion Matrix:\\n\",metrics.classification_report(og_prediction,y_test_base))"
   ]
  },
  {
   "cell_type": "markdown",
   "id": "64503718",
   "metadata": {
    "id": "64503718"
   },
   "source": [
    "- Our goal is to predict whether a customer will be defaulter or not on an imbalanced dataset so accuracy, though very good, is not a suitable metric to consider here.\n",
    "- The precision, recall and f1-score is great for the majority class(non-defaulters) and 0 for minority class which is not desirable."
   ]
  },
  {
   "cell_type": "markdown",
   "id": "ceeea7b6",
   "metadata": {
    "id": "ceeea7b6"
   },
   "source": [
    "#### Try multiple models and tune their hyperparameters with appropriate methods and report the best performing model(use balanced data)"
   ]
  },
  {
   "cell_type": "code",
   "execution_count": null,
   "id": "8e872e41",
   "metadata": {
    "id": "8e872e41"
   },
   "outputs": [],
   "source": [
    "### Parameters to tune.\n",
    "param_rf = [{'n_estimators':[100, 200, 500, 1000],\n",
    "            'max_depth':[7,9, 13,15,19,23,25]}]"
   ]
  },
  {
   "cell_type": "code",
   "execution_count": null,
   "id": "0a50ae75",
   "metadata": {
    "id": "0a50ae75"
   },
   "outputs": [],
   "source": [
    "## instantiate randomforest classifier\n",
    "rf = RandomForestClassifier()\n",
    "\n",
    "## define the tuning model GridsearchCV, and pass estimator and parameters to tune.\n",
    "tuning = GridSearchCV(rf,param_rf,cv=3,n_jobs=-1,verbose=1)"
   ]
  },
  {
   "cell_type": "code",
   "execution_count": null,
   "id": "f766476f",
   "metadata": {
    "colab": {
     "background_save": true,
     "base_uri": "https://localhost:8080/"
    },
    "id": "f766476f",
    "outputId": "f2d86fc9-295f-4e7a-9b35-796a26516d4e"
   },
   "outputs": [
    {
     "name": "stdout",
     "output_type": "stream",
     "text": [
      "Fitting 3 folds for each of 28 candidates, totalling 84 fits\n"
     ]
    },
    {
     "data": {
      "text/html": [
       "<style>#sk-container-id-1 {color: black;background-color: white;}#sk-container-id-1 pre{padding: 0;}#sk-container-id-1 div.sk-toggleable {background-color: white;}#sk-container-id-1 label.sk-toggleable__label {cursor: pointer;display: block;width: 100%;margin-bottom: 0;padding: 0.3em;box-sizing: border-box;text-align: center;}#sk-container-id-1 label.sk-toggleable__label-arrow:before {content: \"▸\";float: left;margin-right: 0.25em;color: #696969;}#sk-container-id-1 label.sk-toggleable__label-arrow:hover:before {color: black;}#sk-container-id-1 div.sk-estimator:hover label.sk-toggleable__label-arrow:before {color: black;}#sk-container-id-1 div.sk-toggleable__content {max-height: 0;max-width: 0;overflow: hidden;text-align: left;background-color: #f0f8ff;}#sk-container-id-1 div.sk-toggleable__content pre {margin: 0.2em;color: black;border-radius: 0.25em;background-color: #f0f8ff;}#sk-container-id-1 input.sk-toggleable__control:checked~div.sk-toggleable__content {max-height: 200px;max-width: 100%;overflow: auto;}#sk-container-id-1 input.sk-toggleable__control:checked~label.sk-toggleable__label-arrow:before {content: \"▾\";}#sk-container-id-1 div.sk-estimator input.sk-toggleable__control:checked~label.sk-toggleable__label {background-color: #d4ebff;}#sk-container-id-1 div.sk-label input.sk-toggleable__control:checked~label.sk-toggleable__label {background-color: #d4ebff;}#sk-container-id-1 input.sk-hidden--visually {border: 0;clip: rect(1px 1px 1px 1px);clip: rect(1px, 1px, 1px, 1px);height: 1px;margin: -1px;overflow: hidden;padding: 0;position: absolute;width: 1px;}#sk-container-id-1 div.sk-estimator {font-family: monospace;background-color: #f0f8ff;border: 1px dotted black;border-radius: 0.25em;box-sizing: border-box;margin-bottom: 0.5em;}#sk-container-id-1 div.sk-estimator:hover {background-color: #d4ebff;}#sk-container-id-1 div.sk-parallel-item::after {content: \"\";width: 100%;border-bottom: 1px solid gray;flex-grow: 1;}#sk-container-id-1 div.sk-label:hover label.sk-toggleable__label {background-color: #d4ebff;}#sk-container-id-1 div.sk-serial::before {content: \"\";position: absolute;border-left: 1px solid gray;box-sizing: border-box;top: 0;bottom: 0;left: 50%;z-index: 0;}#sk-container-id-1 div.sk-serial {display: flex;flex-direction: column;align-items: center;background-color: white;padding-right: 0.2em;padding-left: 0.2em;position: relative;}#sk-container-id-1 div.sk-item {position: relative;z-index: 1;}#sk-container-id-1 div.sk-parallel {display: flex;align-items: stretch;justify-content: center;background-color: white;position: relative;}#sk-container-id-1 div.sk-item::before, #sk-container-id-1 div.sk-parallel-item::before {content: \"\";position: absolute;border-left: 1px solid gray;box-sizing: border-box;top: 0;bottom: 0;left: 50%;z-index: -1;}#sk-container-id-1 div.sk-parallel-item {display: flex;flex-direction: column;z-index: 1;position: relative;background-color: white;}#sk-container-id-1 div.sk-parallel-item:first-child::after {align-self: flex-end;width: 50%;}#sk-container-id-1 div.sk-parallel-item:last-child::after {align-self: flex-start;width: 50%;}#sk-container-id-1 div.sk-parallel-item:only-child::after {width: 0;}#sk-container-id-1 div.sk-dashed-wrapped {border: 1px dashed gray;margin: 0 0.4em 0.5em 0.4em;box-sizing: border-box;padding-bottom: 0.4em;background-color: white;}#sk-container-id-1 div.sk-label label {font-family: monospace;font-weight: bold;display: inline-block;line-height: 1.2em;}#sk-container-id-1 div.sk-label-container {text-align: center;}#sk-container-id-1 div.sk-container {/* jupyter's `normalize.less` sets `[hidden] { display: none; }` but bootstrap.min.css set `[hidden] { display: none !important; }` so we also need the `!important` here to be able to override the default hidden behavior on the sphinx rendered scikit-learn.org. See: https://github.com/scikit-learn/scikit-learn/issues/21755 */display: inline-block !important;position: relative;}#sk-container-id-1 div.sk-text-repr-fallback {display: none;}</style><div id=\"sk-container-id-1\" class=\"sk-top-container\"><div class=\"sk-text-repr-fallback\"><pre>GridSearchCV(cv=3, estimator=RandomForestClassifier(), n_jobs=-1,\n",
       "             param_grid=[{&#x27;max_depth&#x27;: [7, 9, 13, 15, 19, 23, 25],\n",
       "                          &#x27;n_estimators&#x27;: [100, 200, 500, 1000]}],\n",
       "             verbose=1)</pre><b>In a Jupyter environment, please rerun this cell to show the HTML representation or trust the notebook. <br />On GitHub, the HTML representation is unable to render, please try loading this page with nbviewer.org.</b></div><div class=\"sk-container\" hidden><div class=\"sk-item sk-dashed-wrapped\"><div class=\"sk-label-container\"><div class=\"sk-label sk-toggleable\"><input class=\"sk-toggleable__control sk-hidden--visually\" id=\"sk-estimator-id-1\" type=\"checkbox\" ><label for=\"sk-estimator-id-1\" class=\"sk-toggleable__label sk-toggleable__label-arrow\">GridSearchCV</label><div class=\"sk-toggleable__content\"><pre>GridSearchCV(cv=3, estimator=RandomForestClassifier(), n_jobs=-1,\n",
       "             param_grid=[{&#x27;max_depth&#x27;: [7, 9, 13, 15, 19, 23, 25],\n",
       "                          &#x27;n_estimators&#x27;: [100, 200, 500, 1000]}],\n",
       "             verbose=1)</pre></div></div></div><div class=\"sk-parallel\"><div class=\"sk-parallel-item\"><div class=\"sk-item\"><div class=\"sk-label-container\"><div class=\"sk-label sk-toggleable\"><input class=\"sk-toggleable__control sk-hidden--visually\" id=\"sk-estimator-id-2\" type=\"checkbox\" ><label for=\"sk-estimator-id-2\" class=\"sk-toggleable__label sk-toggleable__label-arrow\">estimator: RandomForestClassifier</label><div class=\"sk-toggleable__content\"><pre>RandomForestClassifier()</pre></div></div></div><div class=\"sk-serial\"><div class=\"sk-item\"><div class=\"sk-estimator sk-toggleable\"><input class=\"sk-toggleable__control sk-hidden--visually\" id=\"sk-estimator-id-3\" type=\"checkbox\" ><label for=\"sk-estimator-id-3\" class=\"sk-toggleable__label sk-toggleable__label-arrow\">RandomForestClassifier</label><div class=\"sk-toggleable__content\"><pre>RandomForestClassifier()</pre></div></div></div></div></div></div></div></div></div></div>"
      ],
      "text/plain": [
       "GridSearchCV(cv=3, estimator=RandomForestClassifier(), n_jobs=-1,\n",
       "             param_grid=[{'max_depth': [7, 9, 13, 15, 19, 23, 25],\n",
       "                          'n_estimators': [100, 200, 500, 1000]}],\n",
       "             verbose=1)"
      ]
     },
     "execution_count": 33,
     "metadata": {},
     "output_type": "execute_result"
    }
   ],
   "source": [
    "## Fit the tuning model on the selected features\n",
    "tuning.fit(X_res[selected_features],y_res)"
   ]
  },
  {
   "cell_type": "code",
   "execution_count": null,
   "id": "38181ad4",
   "metadata": {
    "colab": {
     "background_save": true
    },
    "id": "38181ad4",
    "outputId": "3c26408b-8f22-4511-830c-305003ba4c5d"
   },
   "outputs": [
    {
     "data": {
      "text/plain": [
       "{'max_depth': 25, 'n_estimators': 500}"
      ]
     },
     "execution_count": 34,
     "metadata": {},
     "output_type": "execute_result"
    }
   ],
   "source": [
    "tuning.best_params_ # The best combination of the hyperparameters based on the best K features for RandomForestClassifier."
   ]
  },
  {
   "cell_type": "markdown",
   "id": "d0bccceb",
   "metadata": {
    "id": "d0bccceb"
   },
   "source": [
    "### Step 5: Pipeline"
   ]
  },
  {
   "cell_type": "markdown",
   "id": "f6810ad9",
   "metadata": {
    "id": "f6810ad9"
   },
   "source": [
    "#### Build a pipeline and put all the above steps in the pipeline and fit the pipeline on train data and get predictions on the test data."
   ]
  },
  {
   "cell_type": "code",
   "execution_count": null,
   "id": "076ccdd2",
   "metadata": {
    "colab": {
     "background_save": true
    },
    "id": "076ccdd2",
    "outputId": "8756f473-86dd-46bf-8a18-81b40bb01313"
   },
   "outputs": [
    {
     "data": {
      "text/html": [
       "<style>#sk-container-id-2 {color: black;background-color: white;}#sk-container-id-2 pre{padding: 0;}#sk-container-id-2 div.sk-toggleable {background-color: white;}#sk-container-id-2 label.sk-toggleable__label {cursor: pointer;display: block;width: 100%;margin-bottom: 0;padding: 0.3em;box-sizing: border-box;text-align: center;}#sk-container-id-2 label.sk-toggleable__label-arrow:before {content: \"▸\";float: left;margin-right: 0.25em;color: #696969;}#sk-container-id-2 label.sk-toggleable__label-arrow:hover:before {color: black;}#sk-container-id-2 div.sk-estimator:hover label.sk-toggleable__label-arrow:before {color: black;}#sk-container-id-2 div.sk-toggleable__content {max-height: 0;max-width: 0;overflow: hidden;text-align: left;background-color: #f0f8ff;}#sk-container-id-2 div.sk-toggleable__content pre {margin: 0.2em;color: black;border-radius: 0.25em;background-color: #f0f8ff;}#sk-container-id-2 input.sk-toggleable__control:checked~div.sk-toggleable__content {max-height: 200px;max-width: 100%;overflow: auto;}#sk-container-id-2 input.sk-toggleable__control:checked~label.sk-toggleable__label-arrow:before {content: \"▾\";}#sk-container-id-2 div.sk-estimator input.sk-toggleable__control:checked~label.sk-toggleable__label {background-color: #d4ebff;}#sk-container-id-2 div.sk-label input.sk-toggleable__control:checked~label.sk-toggleable__label {background-color: #d4ebff;}#sk-container-id-2 input.sk-hidden--visually {border: 0;clip: rect(1px 1px 1px 1px);clip: rect(1px, 1px, 1px, 1px);height: 1px;margin: -1px;overflow: hidden;padding: 0;position: absolute;width: 1px;}#sk-container-id-2 div.sk-estimator {font-family: monospace;background-color: #f0f8ff;border: 1px dotted black;border-radius: 0.25em;box-sizing: border-box;margin-bottom: 0.5em;}#sk-container-id-2 div.sk-estimator:hover {background-color: #d4ebff;}#sk-container-id-2 div.sk-parallel-item::after {content: \"\";width: 100%;border-bottom: 1px solid gray;flex-grow: 1;}#sk-container-id-2 div.sk-label:hover label.sk-toggleable__label {background-color: #d4ebff;}#sk-container-id-2 div.sk-serial::before {content: \"\";position: absolute;border-left: 1px solid gray;box-sizing: border-box;top: 0;bottom: 0;left: 50%;z-index: 0;}#sk-container-id-2 div.sk-serial {display: flex;flex-direction: column;align-items: center;background-color: white;padding-right: 0.2em;padding-left: 0.2em;position: relative;}#sk-container-id-2 div.sk-item {position: relative;z-index: 1;}#sk-container-id-2 div.sk-parallel {display: flex;align-items: stretch;justify-content: center;background-color: white;position: relative;}#sk-container-id-2 div.sk-item::before, #sk-container-id-2 div.sk-parallel-item::before {content: \"\";position: absolute;border-left: 1px solid gray;box-sizing: border-box;top: 0;bottom: 0;left: 50%;z-index: -1;}#sk-container-id-2 div.sk-parallel-item {display: flex;flex-direction: column;z-index: 1;position: relative;background-color: white;}#sk-container-id-2 div.sk-parallel-item:first-child::after {align-self: flex-end;width: 50%;}#sk-container-id-2 div.sk-parallel-item:last-child::after {align-self: flex-start;width: 50%;}#sk-container-id-2 div.sk-parallel-item:only-child::after {width: 0;}#sk-container-id-2 div.sk-dashed-wrapped {border: 1px dashed gray;margin: 0 0.4em 0.5em 0.4em;box-sizing: border-box;padding-bottom: 0.4em;background-color: white;}#sk-container-id-2 div.sk-label label {font-family: monospace;font-weight: bold;display: inline-block;line-height: 1.2em;}#sk-container-id-2 div.sk-label-container {text-align: center;}#sk-container-id-2 div.sk-container {/* jupyter's `normalize.less` sets `[hidden] { display: none; }` but bootstrap.min.css set `[hidden] { display: none !important; }` so we also need the `!important` here to be able to override the default hidden behavior on the sphinx rendered scikit-learn.org. See: https://github.com/scikit-learn/scikit-learn/issues/21755 */display: inline-block !important;position: relative;}#sk-container-id-2 div.sk-text-repr-fallback {display: none;}</style><div id=\"sk-container-id-2\" class=\"sk-top-container\"><div class=\"sk-text-repr-fallback\"><pre>Pipeline(steps=[(&#x27;ss&#x27;, StandardScaler()),\n",
       "                (&#x27;feature_selection&#x27;,\n",
       "                 SelectFromModel(estimator=RandomForestClassifier(max_depth=25,\n",
       "                                                                  n_estimators=500))),\n",
       "                (&#x27;classifier&#x27;,\n",
       "                 RandomForestClassifier(max_depth=25, n_estimators=500))])</pre><b>In a Jupyter environment, please rerun this cell to show the HTML representation or trust the notebook. <br />On GitHub, the HTML representation is unable to render, please try loading this page with nbviewer.org.</b></div><div class=\"sk-container\" hidden><div class=\"sk-item sk-dashed-wrapped\"><div class=\"sk-label-container\"><div class=\"sk-label sk-toggleable\"><input class=\"sk-toggleable__control sk-hidden--visually\" id=\"sk-estimator-id-4\" type=\"checkbox\" ><label for=\"sk-estimator-id-4\" class=\"sk-toggleable__label sk-toggleable__label-arrow\">Pipeline</label><div class=\"sk-toggleable__content\"><pre>Pipeline(steps=[(&#x27;ss&#x27;, StandardScaler()),\n",
       "                (&#x27;feature_selection&#x27;,\n",
       "                 SelectFromModel(estimator=RandomForestClassifier(max_depth=25,\n",
       "                                                                  n_estimators=500))),\n",
       "                (&#x27;classifier&#x27;,\n",
       "                 RandomForestClassifier(max_depth=25, n_estimators=500))])</pre></div></div></div><div class=\"sk-serial\"><div class=\"sk-item\"><div class=\"sk-estimator sk-toggleable\"><input class=\"sk-toggleable__control sk-hidden--visually\" id=\"sk-estimator-id-5\" type=\"checkbox\" ><label for=\"sk-estimator-id-5\" class=\"sk-toggleable__label sk-toggleable__label-arrow\">StandardScaler</label><div class=\"sk-toggleable__content\"><pre>StandardScaler()</pre></div></div></div><div class=\"sk-item sk-dashed-wrapped\"><div class=\"sk-label-container\"><div class=\"sk-label sk-toggleable\"><input class=\"sk-toggleable__control sk-hidden--visually\" id=\"sk-estimator-id-6\" type=\"checkbox\" ><label for=\"sk-estimator-id-6\" class=\"sk-toggleable__label sk-toggleable__label-arrow\">feature_selection: SelectFromModel</label><div class=\"sk-toggleable__content\"><pre>SelectFromModel(estimator=RandomForestClassifier(max_depth=25,\n",
       "                                                 n_estimators=500))</pre></div></div></div><div class=\"sk-parallel\"><div class=\"sk-parallel-item\"><div class=\"sk-item\"><div class=\"sk-label-container\"><div class=\"sk-label sk-toggleable\"><input class=\"sk-toggleable__control sk-hidden--visually\" id=\"sk-estimator-id-7\" type=\"checkbox\" ><label for=\"sk-estimator-id-7\" class=\"sk-toggleable__label sk-toggleable__label-arrow\">estimator: RandomForestClassifier</label><div class=\"sk-toggleable__content\"><pre>RandomForestClassifier(max_depth=25, n_estimators=500)</pre></div></div></div><div class=\"sk-serial\"><div class=\"sk-item\"><div class=\"sk-estimator sk-toggleable\"><input class=\"sk-toggleable__control sk-hidden--visually\" id=\"sk-estimator-id-8\" type=\"checkbox\" ><label for=\"sk-estimator-id-8\" class=\"sk-toggleable__label sk-toggleable__label-arrow\">RandomForestClassifier</label><div class=\"sk-toggleable__content\"><pre>RandomForestClassifier(max_depth=25, n_estimators=500)</pre></div></div></div></div></div></div></div></div><div class=\"sk-item\"><div class=\"sk-estimator sk-toggleable\"><input class=\"sk-toggleable__control sk-hidden--visually\" id=\"sk-estimator-id-9\" type=\"checkbox\" ><label for=\"sk-estimator-id-9\" class=\"sk-toggleable__label sk-toggleable__label-arrow\">RandomForestClassifier</label><div class=\"sk-toggleable__content\"><pre>RandomForestClassifier(max_depth=25, n_estimators=500)</pre></div></div></div></div></div></div></div>"
      ],
      "text/plain": [
       "Pipeline(steps=[('ss', StandardScaler()),\n",
       "                ('feature_selection',\n",
       "                 SelectFromModel(estimator=RandomForestClassifier(max_depth=25,\n",
       "                                                                  n_estimators=500))),\n",
       "                ('classifier',\n",
       "                 RandomForestClassifier(max_depth=25, n_estimators=500))])"
      ]
     },
     "execution_count": 35,
     "metadata": {},
     "output_type": "execute_result"
    }
   ],
   "source": [
    "# Instantiate the transformer and classifier\n",
    "scaler = StandardScaler()\n",
    "feature_selection = SelectFromModel(RandomForestClassifier(n_estimators=500, max_depth=25))\n",
    "classifier = RandomForestClassifier(n_estimators=500, max_depth=25)\n",
    "\n",
    "# Build the pipeline\n",
    "pipeline = Pipeline([\n",
    "    ('ss', scaler),  # Scaling the data\n",
    "    ('feature_selection', feature_selection),  # Selecting the best K features\n",
    "    ('classifier', classifier)  # Random Forest classifier\n",
    "])\n",
    "\n",
    "# Fit the pipeline on the train data\n",
    "pipeline.fit(X_train, y_train)\n"
   ]
  },
  {
   "cell_type": "code",
   "execution_count": null,
   "id": "9ff3d55b",
   "metadata": {
    "colab": {
     "background_save": true
    },
    "id": "9ff3d55b",
    "outputId": "543132bc-018b-45c9-e9b8-5780750ea5bf"
   },
   "outputs": [
    {
     "name": "stdout",
     "output_type": "stream",
     "text": [
      "Accuracy: 0.8363966342187757\n",
      "Recall: 0.8270362635276248\n",
      "Confusion Matrix:\n",
      "               precision    recall  f1-score   support\n",
      "\n",
      "           0       0.90      0.84      0.87     19771\n",
      "           1       0.74      0.83      0.78     10534\n",
      "\n",
      "    accuracy                           0.84     30305\n",
      "   macro avg       0.82      0.83      0.82     30305\n",
      "weighted avg       0.84      0.84      0.84     30305\n",
      "\n"
     ]
    }
   ],
   "source": [
    "## Prediction on test data\n",
    "prediction = pipeline.predict(X_test)\n",
    "\n",
    "## Computing Accuracy, Recall, and Confusion matrix for test data\n",
    "print(\"Accuracy:\",metrics.accuracy_score(prediction,y_test))\n",
    "print(\"Recall:\",metrics.recall_score(prediction,y_test))\n",
    "print(\"Confusion Matrix:\\n\",metrics.classification_report(prediction,y_test))"
   ]
  },
  {
   "cell_type": "markdown",
   "id": "ee8ef929",
   "metadata": {
    "id": "ee8ef929"
   },
   "source": [
    "### Step 06: Conclusions"
   ]
  },
  {
   "cell_type": "code",
   "execution_count": null,
   "id": "0ea0c995",
   "metadata": {
    "colab": {
     "background_save": true
    },
    "id": "0ea0c995",
    "outputId": "9451b255-065f-49a9-9a57-d7c690ea9ca1",
    "scrolled": true
   },
   "outputs": [
    {
     "name": "stdout",
     "output_type": "stream",
     "text": [
      "\u001b[1;46;13m Base model results:\u001b[0;0m\n",
      "Accuracy: 0.9084440930876031\n",
      "Recall: 0.0\n",
      "Confusion Matrix:\n",
      "               precision    recall  f1-score   support\n",
      "\n",
      "           0       1.00      0.91      0.95     20239\n",
      "           1       0.00      0.00      0.00         0\n",
      "\n",
      "    accuracy                           0.91     20239\n",
      "   macro avg       0.50      0.45      0.48     20239\n",
      "weighted avg       1.00      0.91      0.95     20239\n",
      "\n",
      "----------------------------------------------------------------------------------------------------\n",
      "\u001b[1;46;13m Tuned model results:\u001b[0;0m\n",
      "Accuracy: 0.8363966342187757\n",
      "Recall: 0.8270362635276248\n",
      "Confusion Matrix:\n",
      "               precision    recall  f1-score   support\n",
      "\n",
      "           0       0.90      0.84      0.87     19771\n",
      "           1       0.74      0.83      0.78     10534\n",
      "\n",
      "    accuracy                           0.84     30305\n",
      "   macro avg       0.82      0.83      0.82     30305\n",
      "weighted avg       0.84      0.84      0.84     30305\n",
      "\n"
     ]
    }
   ],
   "source": [
    "print('\\033[1;46;13m Base model results:\\033[0;0m')\n",
    "print(\"Accuracy:\",metrics.accuracy_score(og_prediction,y_test_base))\n",
    "print(\"Recall:\",metrics.recall_score(og_prediction,y_test_base))\n",
    "print(\"Confusion Matrix:\\n\",metrics.classification_report(og_prediction,y_test_base))\n",
    "print('--'*50)\n",
    "print('\\033[1;46;13m Tuned model results:\\033[0;0m')\n",
    "print(\"Accuracy:\",metrics.accuracy_score(prediction,y_test))\n",
    "print(\"Recall:\",metrics.recall_score(prediction,y_test))\n",
    "print(\"Confusion Matrix:\\n\",metrics.classification_report(prediction,y_test))"
   ]
  },
  {
   "cell_type": "markdown",
   "id": "c05643ab",
   "metadata": {
    "id": "c05643ab"
   },
   "source": [
    "#### Comparison:\n",
    "\n",
    "- The use of the oversampling technique to address class imbalance has significantly improved the performance metrics for the minority class, including recall, precision, and F1-score.\n",
    "\n",
    "#### Steps taken:\n",
    "1. To address the initial class imbalance, we applied an oversampling approach, enhancing the model’s ability to predict the minority class accurately.\n",
    "2. Feature selection was performed using feature importance techniques, reducing the original set of 30 features to the 20 most relevant ones.\n",
    "3. We trained a Random Forest Classifier model, tuning its hyperparameters using GridSearchCV on the selected features to optimize performance.\n",
    "4. A machine learning pipeline was built on the training data, which first scales the features, selects the top K features, and finally fits the Random Forest Classifier model with the optimized hyperparameters."
   ]
  }
 ],
 "metadata": {
  "accelerator": "GPU",
  "colab": {
   "provenance": []
  },
  "kernelspec": {
   "display_name": "Python 3 (ipykernel)",
   "language": "python",
   "name": "python3"
  },
  "language_info": {
   "codemirror_mode": {
    "name": "ipython",
    "version": 3
   },
   "file_extension": ".py",
   "mimetype": "text/x-python",
   "name": "python",
   "nbconvert_exporter": "python",
   "pygments_lexer": "ipython3",
   "version": "3.9.12"
  }
 },
 "nbformat": 4,
 "nbformat_minor": 5
}
